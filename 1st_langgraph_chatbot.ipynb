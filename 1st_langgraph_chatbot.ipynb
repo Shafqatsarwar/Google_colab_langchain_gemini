{
  "cells": [
    {
      "cell_type": "markdown",
      "metadata": {
        "id": "view-in-github",
        "colab_type": "text"
      },
      "source": [
        "<a href=\"https://colab.research.google.com/github/Shafqatsarwar/Google_colab_langchain_gemini/blob/main/1st_langgraph_chatbot.ipynb\" target=\"_parent\"><img src=\"https://colab.research.google.com/assets/colab-badge.svg\" alt=\"Open In Colab\"/></a>"
      ]
    },
    {
      "cell_type": "markdown",
      "metadata": {
        "id": "mb1rik7lUo0f"
      },
      "source": [
        "# Research Assistant\n"
      ]
    },
    {
      "cell_type": "code",
      "execution_count": 1,
      "metadata": {
        "colab": {
          "base_uri": "https://localhost:8080/"
        },
        "id": "CybpXI8mUS-p",
        "outputId": "4afca07d-4855-4ef1-f371-4c37cd1530d6"
      },
      "outputs": [
        {
          "output_type": "stream",
          "name": "stdout",
          "text": [
            "  Preparing metadata (setup.py) ... \u001b[?25l\u001b[?25hdone\n",
            "\u001b[2K   \u001b[90m━━━━━━━━━━━━━━━━━━━━━━━━━━━━━━━━━━━━━━━━\u001b[0m \u001b[32m134.7/134.7 kB\u001b[0m \u001b[31m4.2 MB/s\u001b[0m eta \u001b[36m0:00:00\u001b[0m\n",
            "\u001b[2K   \u001b[90m━━━━━━━━━━━━━━━━━━━━━━━━━━━━━━━━━━━━━━━━\u001b[0m \u001b[32m1.0/1.0 MB\u001b[0m \u001b[31m8.8 MB/s\u001b[0m eta \u001b[36m0:00:00\u001b[0m\n",
            "\u001b[2K   \u001b[90m━━━━━━━━━━━━━━━━━━━━━━━━━━━━━━━━━━━━━━━━\u001b[0m \u001b[32m50.7/50.7 kB\u001b[0m \u001b[31m1.2 MB/s\u001b[0m eta \u001b[36m0:00:00\u001b[0m\n",
            "\u001b[2K   \u001b[90m━━━━━━━━━━━━━━━━━━━━━━━━━━━━━━━━━━━━━━━━\u001b[0m \u001b[32m2.5/2.5 MB\u001b[0m \u001b[31m9.3 MB/s\u001b[0m eta \u001b[36m0:00:00\u001b[0m\n",
            "\u001b[2K   \u001b[90m━━━━━━━━━━━━━━━━━━━━━━━━━━━━━━━━━━━━━━━━\u001b[0m \u001b[32m410.6/410.6 kB\u001b[0m \u001b[31m18.7 MB/s\u001b[0m eta \u001b[36m0:00:00\u001b[0m\n",
            "\u001b[2K   \u001b[90m━━━━━━━━━━━━━━━━━━━━━━━━━━━━━━━━━━━━━━━━\u001b[0m \u001b[32m389.9/389.9 kB\u001b[0m \u001b[31m13.9 MB/s\u001b[0m eta \u001b[36m0:00:00\u001b[0m\n",
            "\u001b[2K   \u001b[90m━━━━━━━━━━━━━━━━━━━━━━━━━━━━━━━━━━━━━━━━\u001b[0m \u001b[32m1.2/1.2 MB\u001b[0m \u001b[31m18.9 MB/s\u001b[0m eta \u001b[36m0:00:00\u001b[0m\n",
            "\u001b[2K   \u001b[90m━━━━━━━━━━━━━━━━━━━━━━━━━━━━━━━━━━━━━━━━\u001b[0m \u001b[32m49.5/49.5 kB\u001b[0m \u001b[31m3.5 MB/s\u001b[0m eta \u001b[36m0:00:00\u001b[0m\n",
            "\u001b[?25h  Building wheel for wikipedia (setup.py) ... \u001b[?25l\u001b[?25hdone\n",
            "Collecting httpx==0.27.2\n",
            "  Downloading httpx-0.27.2-py3-none-any.whl.metadata (7.1 kB)\n",
            "Requirement already satisfied: anyio in /usr/local/lib/python3.10/dist-packages (from httpx==0.27.2) (3.7.1)\n",
            "Requirement already satisfied: certifi in /usr/local/lib/python3.10/dist-packages (from httpx==0.27.2) (2024.8.30)\n",
            "Requirement already satisfied: httpcore==1.* in /usr/local/lib/python3.10/dist-packages (from httpx==0.27.2) (1.0.7)\n",
            "Requirement already satisfied: idna in /usr/local/lib/python3.10/dist-packages (from httpx==0.27.2) (3.10)\n",
            "Requirement already satisfied: sniffio in /usr/local/lib/python3.10/dist-packages (from httpx==0.27.2) (1.3.1)\n",
            "Requirement already satisfied: h11<0.15,>=0.13 in /usr/local/lib/python3.10/dist-packages (from httpcore==1.*->httpx==0.27.2) (0.14.0)\n",
            "Requirement already satisfied: exceptiongroup in /usr/local/lib/python3.10/dist-packages (from anyio->httpx==0.27.2) (1.2.2)\n",
            "Downloading httpx-0.27.2-py3-none-any.whl (76 kB)\n",
            "\u001b[2K   \u001b[90m━━━━━━━━━━━━━━━━━━━━━━━━━━━━━━━━━━━━━━━━\u001b[0m \u001b[32m76.4/76.4 kB\u001b[0m \u001b[31m6.9 MB/s\u001b[0m eta \u001b[36m0:00:00\u001b[0m\n",
            "\u001b[?25hInstalling collected packages: httpx\n",
            "  Attempting uninstall: httpx\n",
            "    Found existing installation: httpx 0.28.0\n",
            "    Uninstalling httpx-0.28.0:\n",
            "      Successfully uninstalled httpx-0.28.0\n",
            "Successfully installed httpx-0.27.2\n"
          ]
        }
      ],
      "source": [
        "%pip install --quiet -U langgraph langchain langchain_openai langchain_community langchain_core tavily-python wikipedia\n",
        "# %pip install -q -U langchain-google-genai\n",
        "%pip install httpx==0.27.2"
      ]
    },
    {
      "cell_type": "markdown",
      "metadata": {
        "id": "OKn59OwAVowy"
      },
      "source": [
        "# Set up"
      ]
    },
    {
      "cell_type": "markdown",
      "metadata": {
        "id": "IHFnshfDYhQn"
      },
      "source": [
        "we will use chain langsmith for tracing"
      ]
    },
    {
      "cell_type": "code",
      "execution_count": 10,
      "metadata": {
        "id": "yh3Bpv5NW-Zm"
      },
      "outputs": [],
      "source": [
        "import os, getpass\n",
        "\n",
        "def _set_env(var: str):\n",
        "    # Check if the variable is set in the OS environment\n",
        "    env_value = os.environ.get(var)\n",
        "    if not env_value:\n",
        "        # If not set, prompt the user for input\n",
        "        env_value = getpass.getpass(f\"{var}: \")\n",
        "\n",
        "    # Set the environment variable for the current process\n",
        "    os.environ[var] = env_value\n",
        "\n",
        "_set_env(\"LANGCHAIN_API_KEY\")\n",
        "os.environ[\"LANGCHAIN_TRACING_V2\"] = \"true\"\n",
        "os.environ[\"LANGCHAIN_PROJECT\"] = \"langchain-academy\""
      ]
    },
    {
      "cell_type": "code",
      "execution_count": null,
      "metadata": {
        "id": "2MsaZu5KYWqP"
      },
      "outputs": [],
      "source": [
        "# # from langchain_openai import ChatOpenAI\n",
        "# from langchain-google-genai import ChatGoogleGenerativeAI\n",
        "# llm = Go(model=\"gpt-4o\", temperature=0)"
      ]
    },
    {
      "cell_type": "code",
      "execution_count": null,
      "metadata": {
        "id": "gGHuSe2pJo2Y"
      },
      "outputs": [],
      "source": [
        "\n",
        "# # Importing userdata from Google Colab and API keys:\n",
        "# from google.colab import userdata\n",
        "# google_api_key = userdata.get('GEMINI_API_KEY')\n"
      ]
    },
    {
      "cell_type": "code",
      "execution_count": null,
      "metadata": {
        "id": "nP7y2xqEKfoL"
      },
      "outputs": [],
      "source": [
        "# # Import the ChatGoogleGenerativeAI class from the langchain:\n",
        "# from langchain_google_genai import ChatGoogleGenerativeAI\n",
        "# # Import the AIMessage:\n",
        "# from langchain_core.messages.ai import AIMessage\n"
      ]
    },
    {
      "cell_type": "code",
      "execution_count": null,
      "metadata": {
        "id": "IfbzQExOKsRU"
      },
      "outputs": [],
      "source": [
        "# # LLM:\n",
        "# llm = ChatGoogleGenerativeAI(\n",
        "#     model=\"gemini-1.5-flash\",  # Specify the model to use\n",
        "#     api_key=google_api_key,     # Use the google_api_key variable here\n",
        "#     temperature=0.2,            # Set the randomness of the model's responses (0 = deterministic, 1 = very random)\n",
        "# )\n"
      ]
    },
    {
      "cell_type": "code",
      "execution_count": null,
      "metadata": {
        "colab": {
          "base_uri": "https://localhost:8080/"
        },
        "id": "M_lmAzOSXidt",
        "outputId": "aea81495-0569-43f9-f9fa-d638e19b8981"
      },
      "outputs": [
        {
          "output_type": "stream",
          "name": "stdout",
          "text": [
            "model='models/gemini-1.5-flash' google_api_key=SecretStr('**********') temperature=0.2 client=<google.ai.generativelanguage_v1beta.services.generative_service.client.GenerativeServiceClient object at 0x7b9f34eedc60> default_metadata=()\n"
          ]
        }
      ],
      "source": [
        "print(llm)"
      ]
    },
    {
      "cell_type": "code",
      "source": [
        "from langchain_openai import ChatOpenAI\n",
        "# Initialize the model\n",
        "model = ChatOpenAI(model=\"gpt-4o\", temperature=0)"
      ],
      "metadata": {
        "id": "4g-fQb9UI0IN"
      },
      "execution_count": 13,
      "outputs": []
    },
    {
      "cell_type": "markdown",
      "source": [
        "# Visibility into Trustcall updates\n",
        "Trustcall creates and updates JSON schemas.\n",
        "\n",
        "What if we want visibility into the specific changes made by Trustcall?\n",
        "\n",
        "For example, we saw before that Trustcall has some of its own tools to:\n",
        "\n",
        "Self-correct from validation failures\n",
        "Update existing documents\n",
        "Visibility into these tools can be useful for the agent we're going to build.\n",
        "\n",
        "Below, we'll show how to do this!"
      ],
      "metadata": {
        "id": "AiIfxNjbLPEs"
      }
    },
    {
      "cell_type": "code",
      "source": [
        "from pydantic import BaseModel, Field\n",
        "\n",
        "class Memory(BaseModel):\n",
        "    content: str = Field(description=\"The main content of the memory. For example: User expressed interest in learning about Arabic.\")\n",
        "\n",
        "class MemoryCollection(BaseModel):\n",
        "    memories: list[Memory] = Field(description=\"A list of memories about the user.\")"
      ],
      "metadata": {
        "id": "1-UH87d7K8N-"
      },
      "execution_count": 11,
      "outputs": []
    },
    {
      "cell_type": "markdown",
      "source": [
        "We can add a listener to the Trustcall extractor.\n",
        "\n",
        "This will pass runs from the extractor's execution to a class, Spy, that we will define.\n",
        "\n",
        "Our Spy class will extract information about what tool calls were made by Trustcall."
      ],
      "metadata": {
        "id": "BuWyCHR4LfGk"
      }
    },
    {
      "cell_type": "code",
      "source": [
        "!pip install trustcall\n",
        "from trustcall import create_extractor\n",
        "from trustcall import create_extractor\n",
        "\n",
        "# Inspect the tool calls made by Trustcall\n",
        "class Spy:\n",
        "    def __init__(self):\n",
        "        self.called_tools = []\n",
        "\n",
        "    def __call__(self, run):\n",
        "        # Collect information about the tool calls made by the extractor.\n",
        "        q = [run]\n",
        "        while q:\n",
        "            r = q.pop()\n",
        "            if r.child_runs:\n",
        "                q.extend(r.child_runs)\n",
        "            if r.run_type == \"chat_model\":\n",
        "                self.called_tools.append(\n",
        "                    r.outputs[\"generations\"][0][0][\"message\"][\"kwargs\"][\"tool_calls\"]\n",
        "                )\n",
        "\n",
        "# Initialize the spy\n",
        "spy = Spy()\n",
        "\n",
        "# Initialize the model\n",
        "model = ChatOpenAI(model=\"gpt-4o\", temperature=0)\n",
        "\n",
        "# Create the extractor\n",
        "trustcall_extractor = create_extractor(\n",
        "    model,\n",
        "    tools=[Memory],\n",
        "    tool_choice=\"Memory\",\n",
        "    enable_inserts=True,\n",
        ")\n",
        "\n",
        "# Add the spy as a listener\n",
        "trustcall_extractor_see_all_tool_calls = trustcall_extractor.with_listeners(on_end=spy)"
      ],
      "metadata": {
        "colab": {
          "base_uri": "https://localhost:8080/"
        },
        "id": "CJouufEZLMxY",
        "outputId": "0ecb84f5-7571-4b6e-cfb0-b8e76ba0eee9"
      },
      "execution_count": 16,
      "outputs": [
        {
          "output_type": "stream",
          "name": "stdout",
          "text": [
            "Requirement already satisfied: trustcall in /usr/local/lib/python3.10/dist-packages (0.0.26)\n",
            "Requirement already satisfied: dydantic<0.0.8,>=0.0.7 in /usr/local/lib/python3.10/dist-packages (from trustcall) (0.0.7)\n",
            "Requirement already satisfied: jsonpatch<2.0,>=1.33 in /usr/local/lib/python3.10/dist-packages (from trustcall) (1.33)\n",
            "Requirement already satisfied: langgraph>=0.2.25 in /usr/local/lib/python3.10/dist-packages (from trustcall) (0.2.58)\n",
            "Requirement already satisfied: pydantic<3,>=2 in /usr/local/lib/python3.10/dist-packages (from dydantic<0.0.8,>=0.0.7->trustcall) (2.10.3)\n",
            "Requirement already satisfied: jsonpointer>=1.9 in /usr/local/lib/python3.10/dist-packages (from jsonpatch<2.0,>=1.33->trustcall) (3.0.0)\n",
            "Requirement already satisfied: langchain-core!=0.3.0,!=0.3.1,!=0.3.10,!=0.3.11,!=0.3.12,!=0.3.13,!=0.3.14,!=0.3.15,!=0.3.16,!=0.3.17,!=0.3.18,!=0.3.19,!=0.3.2,!=0.3.20,!=0.3.21,!=0.3.22,!=0.3.3,!=0.3.4,!=0.3.5,!=0.3.6,!=0.3.7,!=0.3.8,!=0.3.9,<0.4.0,>=0.2.43 in /usr/local/lib/python3.10/dist-packages (from langgraph>=0.2.25->trustcall) (0.3.24)\n",
            "Requirement already satisfied: langgraph-checkpoint<3.0.0,>=2.0.4 in /usr/local/lib/python3.10/dist-packages (from langgraph>=0.2.25->trustcall) (2.0.8)\n",
            "Requirement already satisfied: langgraph-sdk<0.2.0,>=0.1.42 in /usr/local/lib/python3.10/dist-packages (from langgraph>=0.2.25->trustcall) (0.1.43)\n",
            "Requirement already satisfied: PyYAML>=5.3 in /usr/local/lib/python3.10/dist-packages (from langchain-core!=0.3.0,!=0.3.1,!=0.3.10,!=0.3.11,!=0.3.12,!=0.3.13,!=0.3.14,!=0.3.15,!=0.3.16,!=0.3.17,!=0.3.18,!=0.3.19,!=0.3.2,!=0.3.20,!=0.3.21,!=0.3.22,!=0.3.3,!=0.3.4,!=0.3.5,!=0.3.6,!=0.3.7,!=0.3.8,!=0.3.9,<0.4.0,>=0.2.43->langgraph>=0.2.25->trustcall) (6.0.2)\n",
            "Requirement already satisfied: langsmith<0.3,>=0.1.125 in /usr/local/lib/python3.10/dist-packages (from langchain-core!=0.3.0,!=0.3.1,!=0.3.10,!=0.3.11,!=0.3.12,!=0.3.13,!=0.3.14,!=0.3.15,!=0.3.16,!=0.3.17,!=0.3.18,!=0.3.19,!=0.3.2,!=0.3.20,!=0.3.21,!=0.3.22,!=0.3.3,!=0.3.4,!=0.3.5,!=0.3.6,!=0.3.7,!=0.3.8,!=0.3.9,<0.4.0,>=0.2.43->langgraph>=0.2.25->trustcall) (0.1.147)\n",
            "Requirement already satisfied: packaging<25,>=23.2 in /usr/local/lib/python3.10/dist-packages (from langchain-core!=0.3.0,!=0.3.1,!=0.3.10,!=0.3.11,!=0.3.12,!=0.3.13,!=0.3.14,!=0.3.15,!=0.3.16,!=0.3.17,!=0.3.18,!=0.3.19,!=0.3.2,!=0.3.20,!=0.3.21,!=0.3.22,!=0.3.3,!=0.3.4,!=0.3.5,!=0.3.6,!=0.3.7,!=0.3.8,!=0.3.9,<0.4.0,>=0.2.43->langgraph>=0.2.25->trustcall) (24.2)\n",
            "Requirement already satisfied: tenacity!=8.4.0,<10.0.0,>=8.1.0 in /usr/local/lib/python3.10/dist-packages (from langchain-core!=0.3.0,!=0.3.1,!=0.3.10,!=0.3.11,!=0.3.12,!=0.3.13,!=0.3.14,!=0.3.15,!=0.3.16,!=0.3.17,!=0.3.18,!=0.3.19,!=0.3.2,!=0.3.20,!=0.3.21,!=0.3.22,!=0.3.3,!=0.3.4,!=0.3.5,!=0.3.6,!=0.3.7,!=0.3.8,!=0.3.9,<0.4.0,>=0.2.43->langgraph>=0.2.25->trustcall) (9.0.0)\n",
            "Requirement already satisfied: typing-extensions>=4.7 in /usr/local/lib/python3.10/dist-packages (from langchain-core!=0.3.0,!=0.3.1,!=0.3.10,!=0.3.11,!=0.3.12,!=0.3.13,!=0.3.14,!=0.3.15,!=0.3.16,!=0.3.17,!=0.3.18,!=0.3.19,!=0.3.2,!=0.3.20,!=0.3.21,!=0.3.22,!=0.3.3,!=0.3.4,!=0.3.5,!=0.3.6,!=0.3.7,!=0.3.8,!=0.3.9,<0.4.0,>=0.2.43->langgraph>=0.2.25->trustcall) (4.12.2)\n",
            "Requirement already satisfied: msgpack<2.0.0,>=1.1.0 in /usr/local/lib/python3.10/dist-packages (from langgraph-checkpoint<3.0.0,>=2.0.4->langgraph>=0.2.25->trustcall) (1.1.0)\n",
            "Requirement already satisfied: httpx>=0.25.2 in /usr/local/lib/python3.10/dist-packages (from langgraph-sdk<0.2.0,>=0.1.42->langgraph>=0.2.25->trustcall) (0.27.2)\n",
            "Requirement already satisfied: orjson>=3.10.1 in /usr/local/lib/python3.10/dist-packages (from langgraph-sdk<0.2.0,>=0.1.42->langgraph>=0.2.25->trustcall) (3.10.12)\n",
            "Requirement already satisfied: annotated-types>=0.6.0 in /usr/local/lib/python3.10/dist-packages (from pydantic<3,>=2->dydantic<0.0.8,>=0.0.7->trustcall) (0.7.0)\n",
            "Requirement already satisfied: pydantic-core==2.27.1 in /usr/local/lib/python3.10/dist-packages (from pydantic<3,>=2->dydantic<0.0.8,>=0.0.7->trustcall) (2.27.1)\n",
            "Requirement already satisfied: anyio in /usr/local/lib/python3.10/dist-packages (from httpx>=0.25.2->langgraph-sdk<0.2.0,>=0.1.42->langgraph>=0.2.25->trustcall) (3.7.1)\n",
            "Requirement already satisfied: certifi in /usr/local/lib/python3.10/dist-packages (from httpx>=0.25.2->langgraph-sdk<0.2.0,>=0.1.42->langgraph>=0.2.25->trustcall) (2024.8.30)\n",
            "Requirement already satisfied: httpcore==1.* in /usr/local/lib/python3.10/dist-packages (from httpx>=0.25.2->langgraph-sdk<0.2.0,>=0.1.42->langgraph>=0.2.25->trustcall) (1.0.7)\n",
            "Requirement already satisfied: idna in /usr/local/lib/python3.10/dist-packages (from httpx>=0.25.2->langgraph-sdk<0.2.0,>=0.1.42->langgraph>=0.2.25->trustcall) (3.10)\n",
            "Requirement already satisfied: sniffio in /usr/local/lib/python3.10/dist-packages (from httpx>=0.25.2->langgraph-sdk<0.2.0,>=0.1.42->langgraph>=0.2.25->trustcall) (1.3.1)\n",
            "Requirement already satisfied: h11<0.15,>=0.13 in /usr/local/lib/python3.10/dist-packages (from httpcore==1.*->httpx>=0.25.2->langgraph-sdk<0.2.0,>=0.1.42->langgraph>=0.2.25->trustcall) (0.14.0)\n",
            "Requirement already satisfied: requests<3,>=2 in /usr/local/lib/python3.10/dist-packages (from langsmith<0.3,>=0.1.125->langchain-core!=0.3.0,!=0.3.1,!=0.3.10,!=0.3.11,!=0.3.12,!=0.3.13,!=0.3.14,!=0.3.15,!=0.3.16,!=0.3.17,!=0.3.18,!=0.3.19,!=0.3.2,!=0.3.20,!=0.3.21,!=0.3.22,!=0.3.3,!=0.3.4,!=0.3.5,!=0.3.6,!=0.3.7,!=0.3.8,!=0.3.9,<0.4.0,>=0.2.43->langgraph>=0.2.25->trustcall) (2.32.3)\n",
            "Requirement already satisfied: requests-toolbelt<2.0.0,>=1.0.0 in /usr/local/lib/python3.10/dist-packages (from langsmith<0.3,>=0.1.125->langchain-core!=0.3.0,!=0.3.1,!=0.3.10,!=0.3.11,!=0.3.12,!=0.3.13,!=0.3.14,!=0.3.15,!=0.3.16,!=0.3.17,!=0.3.18,!=0.3.19,!=0.3.2,!=0.3.20,!=0.3.21,!=0.3.22,!=0.3.3,!=0.3.4,!=0.3.5,!=0.3.6,!=0.3.7,!=0.3.8,!=0.3.9,<0.4.0,>=0.2.43->langgraph>=0.2.25->trustcall) (1.0.0)\n",
            "Requirement already satisfied: charset-normalizer<4,>=2 in /usr/local/lib/python3.10/dist-packages (from requests<3,>=2->langsmith<0.3,>=0.1.125->langchain-core!=0.3.0,!=0.3.1,!=0.3.10,!=0.3.11,!=0.3.12,!=0.3.13,!=0.3.14,!=0.3.15,!=0.3.16,!=0.3.17,!=0.3.18,!=0.3.19,!=0.3.2,!=0.3.20,!=0.3.21,!=0.3.22,!=0.3.3,!=0.3.4,!=0.3.5,!=0.3.6,!=0.3.7,!=0.3.8,!=0.3.9,<0.4.0,>=0.2.43->langgraph>=0.2.25->trustcall) (3.4.0)\n",
            "Requirement already satisfied: urllib3<3,>=1.21.1 in /usr/local/lib/python3.10/dist-packages (from requests<3,>=2->langsmith<0.3,>=0.1.125->langchain-core!=0.3.0,!=0.3.1,!=0.3.10,!=0.3.11,!=0.3.12,!=0.3.13,!=0.3.14,!=0.3.15,!=0.3.16,!=0.3.17,!=0.3.18,!=0.3.19,!=0.3.2,!=0.3.20,!=0.3.21,!=0.3.22,!=0.3.3,!=0.3.4,!=0.3.5,!=0.3.6,!=0.3.7,!=0.3.8,!=0.3.9,<0.4.0,>=0.2.43->langgraph>=0.2.25->trustcall) (2.2.3)\n",
            "Requirement already satisfied: exceptiongroup in /usr/local/lib/python3.10/dist-packages (from anyio->httpx>=0.25.2->langgraph-sdk<0.2.0,>=0.1.42->langgraph>=0.2.25->trustcall) (1.2.2)\n"
          ]
        }
      ]
    },
    {
      "cell_type": "markdown",
      "metadata": {
        "id": "xXyTSh29ZLv0"
      },
      "source": [
        "Generat Analyst: Human-in-the-loop"
      ]
    },
    {
      "cell_type": "code",
      "source": [
        "from langchain_core.messages import HumanMessage, SystemMessage, AIMessage\n",
        "\n",
        "# Instruction\n",
        "instruction = \"\"\"Extract memories from the following conversation:\"\"\"\n",
        "\n",
        "# Conversation\n",
        "conversation = [HumanMessage(content=\"Hi, I'm Khan.\"),\n",
        "                AIMessage(content=\"Nice to meet you, Khan.\"),\n",
        "                HumanMessage(content=\"This morning I had a nice bike ride in Lahore.\")]\n",
        "\n",
        "# Invoke the extractor\n",
        "result = trustcall_extractor.invoke({\"messages\": [SystemMessage(content=instruction)] + conversation})"
      ],
      "metadata": {
        "id": "NlQAGgYpM0Y7"
      },
      "execution_count": 18,
      "outputs": []
    },
    {
      "cell_type": "code",
      "source": [
        "# Messages contain the tool calls\n",
        "for m in result[\"messages\"]:\n",
        "    m.pretty_print()"
      ],
      "metadata": {
        "colab": {
          "base_uri": "https://localhost:8080/"
        },
        "id": "bxKiYcFXNA4K",
        "outputId": "b8be8612-8aff-43a7-ad1f-54ba4845e04e"
      },
      "execution_count": 19,
      "outputs": [
        {
          "output_type": "stream",
          "name": "stdout",
          "text": [
            "==================================\u001b[1m Ai Message \u001b[0m==================================\n",
            "Tool Calls:\n",
            "  Memory (call_AkkYZB0mMlkPt9K1wAoXmqbV)\n",
            " Call ID: call_AkkYZB0mMlkPt9K1wAoXmqbV\n",
            "  Args:\n",
            "    content: Khan had a nice bike ride in Lahore this morning.\n"
          ]
        }
      ]
    },
    {
      "cell_type": "code",
      "source": [
        "# Responses contain the memories that adhere to the schema\n",
        "for m in result[\"responses\"]:\n",
        "    print(m)"
      ],
      "metadata": {
        "colab": {
          "base_uri": "https://localhost:8080/"
        },
        "id": "uVbio1XjNGOH",
        "outputId": "7d82d7f5-17d1-4cf8-d59b-25f9b3cba5c1"
      },
      "execution_count": 20,
      "outputs": [
        {
          "output_type": "stream",
          "name": "stdout",
          "text": [
            "content='Khan had a nice bike ride in Lahore this morning.'\n"
          ]
        }
      ]
    },
    {
      "cell_type": "code",
      "source": [
        "# Metadata contains the tool call\n",
        "for m in result[\"response_metadata\"]:\n",
        "    print(m)"
      ],
      "metadata": {
        "colab": {
          "base_uri": "https://localhost:8080/"
        },
        "id": "q1c1AVrPNJ43",
        "outputId": "023dd480-1d58-44d6-b2b0-6408675277ff"
      },
      "execution_count": 21,
      "outputs": [
        {
          "output_type": "stream",
          "name": "stdout",
          "text": [
            "{'id': 'call_AkkYZB0mMlkPt9K1wAoXmqbV'}\n"
          ]
        }
      ]
    },
    {
      "cell_type": "code",
      "source": [
        "# Update the conversation\n",
        "updated_conversation = [AIMessage(content=\"That's great, did you do after?\"),\n",
        "                        HumanMessage(content=\"I went to Gulberg.\"),\n",
        "                        AIMessage(content=\"What else is on your mind?\"),\n",
        "                        HumanMessage(content=\"I was thinking about Multan, and going back this winter!\"),]\n",
        "\n",
        "# Update the instruction\n",
        "system_msg = \"\"\"Update existing memories and create new ones based on the following conversation:\"\"\"\n",
        "\n",
        "# We'll save existing memories, giving them an ID, key (tool name), and value\n",
        "tool_name = \"Memory\"\n",
        "existing_memories = [(str(i), tool_name, memory.model_dump()) for i, memory in enumerate(result[\"responses\"])] if result[\"responses\"] else None\n",
        "existing_memories"
      ],
      "metadata": {
        "colab": {
          "base_uri": "https://localhost:8080/"
        },
        "id": "ZDiLUqBQNOuB",
        "outputId": "066de851-0540-4e12-851c-ffbc82e6ed51"
      },
      "execution_count": 22,
      "outputs": [
        {
          "output_type": "execute_result",
          "data": {
            "text/plain": [
              "[('0',\n",
              "  'Memory',\n",
              "  {'content': 'Khan had a nice bike ride in Lahore this morning.'})]"
            ]
          },
          "metadata": {},
          "execution_count": 22
        }
      ]
    },
    {
      "cell_type": "code",
      "source": [
        "# Invoke the extractor with our updated conversation and existing memories\n",
        "result = trustcall_extractor_see_all_tool_calls.invoke({\"messages\": updated_conversation,\n",
        "                                                        \"existing\": existing_memories})"
      ],
      "metadata": {
        "id": "k5Y_pnYlNgQo"
      },
      "execution_count": 23,
      "outputs": []
    },
    {
      "cell_type": "code",
      "source": [
        "# Metadata contains the tool call\n",
        "for m in result[\"response_metadata\"]:\n",
        "    print(m)"
      ],
      "metadata": {
        "colab": {
          "base_uri": "https://localhost:8080/"
        },
        "id": "-axCmtgvNmCC",
        "outputId": "38c9f2bb-fa78-4f0f-b4c7-0e4736d6a8dc"
      },
      "execution_count": 24,
      "outputs": [
        {
          "output_type": "stream",
          "name": "stdout",
          "text": [
            "{'id': 'call_OE103dUdH9BLC7tYOJLZsMB9', 'json_doc_id': '0'}\n"
          ]
        }
      ]
    },
    {
      "cell_type": "code",
      "source": [
        "# Messages contain the tool calls\n",
        "for m in result[\"messages\"]:\n",
        "    m.pretty_print()"
      ],
      "metadata": {
        "colab": {
          "base_uri": "https://localhost:8080/"
        },
        "id": "lEnBf89YNrWy",
        "outputId": "a695e158-6528-4e26-85ac-228e511cdd4d"
      },
      "execution_count": 25,
      "outputs": [
        {
          "output_type": "stream",
          "name": "stdout",
          "text": [
            "==================================\u001b[1m Ai Message \u001b[0m==================================\n",
            "Tool Calls:\n",
            "  Memory (call_OE103dUdH9BLC7tYOJLZsMB9)\n",
            " Call ID: call_OE103dUdH9BLC7tYOJLZsMB9\n",
            "  Args:\n",
            "    content: Khan had a nice bike ride in Lahore this morning. Then, he went to Gulberg. He was also thinking about Multan and going back this winter!\n"
          ]
        }
      ]
    },
    {
      "cell_type": "code",
      "source": [
        "# Parsed responses\n",
        "for m in result[\"responses\"]:\n",
        "    print(m)"
      ],
      "metadata": {
        "colab": {
          "base_uri": "https://localhost:8080/"
        },
        "id": "6Q8rzf4eNwTl",
        "outputId": "ad700968-021c-4558-d561-3386d6f6259f"
      },
      "execution_count": 26,
      "outputs": [
        {
          "output_type": "stream",
          "name": "stdout",
          "text": [
            "content='Khan had a nice bike ride in Lahore this morning. Then, he went to Gulberg. He was also thinking about Multan and going back this winter!'\n"
          ]
        }
      ]
    },
    {
      "cell_type": "code",
      "source": [
        "# Inspect the tool calls made by Trustcall\n",
        "spy.called_tools"
      ],
      "metadata": {
        "colab": {
          "base_uri": "https://localhost:8080/"
        },
        "id": "rWDl9ZWxN3WQ",
        "outputId": "0e19bcef-fb76-4027-c875-56383648a49e"
      },
      "execution_count": 27,
      "outputs": [
        {
          "output_type": "execute_result",
          "data": {
            "text/plain": [
              "[[{'name': 'PatchDoc',\n",
              "   'args': {'json_doc_id': '0',\n",
              "    'planned_edits': \"1. Replace the existing content with the updated memory that includes the user's activities and thoughts. The new content should reflect the bike ride in Lahore, the visit to Gulberg, and thoughts about going to Multan this winter.\",\n",
              "    'patches': [{'op': 'replace',\n",
              "      'path': '/content',\n",
              "      'value': 'Khan had a nice bike ride in Lahore this morning. Then, he went to Gulberg. He was also thinking about Multan and going back this winter!'}]},\n",
              "   'id': 'call_OE103dUdH9BLC7tYOJLZsMB9',\n",
              "   'type': 'tool_call'}]]"
            ]
          },
          "metadata": {},
          "execution_count": 27
        }
      ]
    },
    {
      "cell_type": "code",
      "source": [
        "def extract_tool_info(tool_calls, schema_name=\"Memory\"):\n",
        "    \"\"\"Extract information from tool calls for both patches and new memories.\n",
        "\n",
        "    Args:\n",
        "        tool_calls: List of tool calls from the model\n",
        "        schema_name: Name of the schema tool (e.g., \"Memory\", \"WishList\", \"Profile\")\n",
        "    \"\"\"\n",
        "\n",
        "    # Initialize list of changes\n",
        "    changes = []\n",
        "\n",
        "    for call_group in tool_calls:\n",
        "        for call in call_group:\n",
        "            if call['name'] == 'PatchDoc':\n",
        "                changes.append({\n",
        "                    'type': 'update',\n",
        "                    'doc_id': call['args']['json_doc_id'],\n",
        "                    'planned_edits': call['args']['planned_edits'],\n",
        "                    'value': call['args']['patches'][0]['value']\n",
        "                })\n",
        "            elif call['name'] == schema_name:\n",
        "                changes.append({\n",
        "                    'type': 'new',\n",
        "                    'value': call['args']\n",
        "                })\n",
        "\n",
        "    # Format results as a single string\n",
        "    result_parts = []\n",
        "    for change in changes:\n",
        "        if change['type'] == 'update':\n",
        "            result_parts.append(\n",
        "                f\"Document {change['doc_id']} updated:\\n\"\n",
        "                f\"Plan: {change['planned_edits']}\\n\"\n",
        "                f\"Added content: {change['value']}\"\n",
        "            )\n",
        "        else:\n",
        "            result_parts.append(\n",
        "                f\"New {schema_name} created:\\n\"\n",
        "                f\"Content: {change['value']}\"\n",
        "            )\n",
        "\n",
        "    return \"\\n\\n\".join(result_parts)\n",
        "\n",
        "# Inspect spy.called_tools to see exactly what happened during the extraction\n",
        "schema_name = \"Memory\"\n",
        "changes = extract_tool_info(spy.called_tools, schema_name)\n",
        "print(changes)"
      ],
      "metadata": {
        "colab": {
          "base_uri": "https://localhost:8080/"
        },
        "id": "_kGKQF_XN8Mo",
        "outputId": "71893642-1ad7-4aee-8f05-da7900a294f5"
      },
      "execution_count": 28,
      "outputs": [
        {
          "output_type": "stream",
          "name": "stdout",
          "text": [
            "Document 0 updated:\n",
            "Plan: 1. Replace the existing content with the updated memory that includes the user's activities and thoughts. The new content should reflect the bike ride in Lahore, the visit to Gulberg, and thoughts about going to Multan this winter.\n",
            "Added content: Khan had a nice bike ride in Lahore this morning. Then, he went to Gulberg. He was also thinking about Multan and going back this winter!\n"
          ]
        }
      ]
    },
    {
      "cell_type": "markdown",
      "source": [
        "# Creating an agent\n",
        "\n",
        "There are many different architectures to choose from.\n",
        "\n",
        "Here, we'll implement something simple, a React agent.\n",
        "\n",
        "This agent will be a helpful companion for creating and managing a WishList list.\n",
        "\n",
        "This agent can make a decision to update three types of long-term memory:\n",
        "\n",
        "(a) Create or update a user `profile` with general user information\n",
        "\n",
        "(b) Add or update items in a WishList list `collection`\n",
        "\n",
        "(c) Update its own `instructions` on how to update items to the WishList list"
      ],
      "metadata": {
        "id": "lG1yKaPKOSMU"
      }
    },
    {
      "cell_type": "code",
      "source": [
        "from typing import TypedDict, Literal\n",
        "\n",
        "# Update memory tool\n",
        "class UpdateMemory(TypedDict):\n",
        "    \"\"\" Decision on what memory type to update \"\"\"\n",
        "    update_type: Literal['user', 'wishlist', 'instructions']"
      ],
      "metadata": {
        "id": "EA0dSVo7Olb6"
      },
      "execution_count": 29,
      "outputs": []
    },
    {
      "cell_type": "code",
      "source": [
        "_set_env(\"OPENAI_API_KEY\")"
      ],
      "metadata": {
        "id": "YAvhN870O5PI"
      },
      "execution_count": 30,
      "outputs": []
    },
    {
      "cell_type": "markdown",
      "source": [
        "# Graph definition\n",
        "We add a simple router, route_message, that makes a binary decision to save memories.\n",
        "\n",
        "The memory collection updating is handled by Trustcall in the write_memory node, as before!"
      ],
      "metadata": {
        "id": "9yGhLDHuPD2a"
      }
    },
    {
      "cell_type": "code",
      "source": [
        "import uuid\n",
        "from IPython.display import Image, display\n",
        "\n",
        "from datetime import datetime\n",
        "from trustcall import create_extractor\n",
        "from typing import Optional\n",
        "from pydantic import BaseModel, Field\n",
        "\n",
        "from langchain_core.runnables import RunnableConfig\n",
        "from langchain_core.messages import merge_message_runs, HumanMessage, SystemMessage\n",
        "\n",
        "from langgraph.checkpoint.memory import MemorySaver\n",
        "from langgraph.graph import StateGraph, MessagesState, END, START\n",
        "from langgraph.store.base import BaseStore\n",
        "from langgraph.store.memory import InMemoryStore\n",
        "\n",
        "from langchain_openai import ChatOpenAI\n",
        "\n",
        "# Initialize the model\n",
        "model = ChatOpenAI(model=\"gpt-4o\", temperature=0)\n",
        "\n",
        "# User profile schema\n",
        "class Profile(BaseModel):\n",
        "    \"\"\"This is the profile of the user you are chatting with\"\"\"\n",
        "    name: Optional[str] = Field(description=\"The user's name\", default=None)\n",
        "    location: Optional[str] = Field(description=\"The user's location\", default=None)\n",
        "    job: Optional[str] = Field(description=\"The user's job\", default=None)\n",
        "    connections: list[str] = Field(\n",
        "        description=\"Personal connection of the user, such as family members, friends, or coworkers\",\n",
        "        default_factory=list\n",
        "    )\n",
        "    interests: list[str] = Field(\n",
        "        description=\"Interests that the user has\",\n",
        "        default_factory=list\n",
        "    )\n",
        "\n",
        "# WishList schema\n",
        "class WishList(BaseModel):\n",
        "    task: str = Field(description=\"The task to be completed.\")\n",
        "    time_to_complete: Optional[int] = Field(description=\"Estimated time to complete the task (minutes).\")\n",
        "    deadline: Optional[datetime] = Field(\n",
        "        description=\"When the task needs to be completed by (if applicable)\",\n",
        "        default=None\n",
        "    )\n",
        "    solutions: list[str] = Field(\n",
        "        description=\"List of specific, actionable solutions (e.g., specific ideas, service providers, or concrete options relevant to completing the task)\",\n",
        "        min_items=1,\n",
        "        default_factory=list\n",
        "    )\n",
        "    status: Literal[\"not started\", \"in progress\", \"done\", \"archived\"] = Field(\n",
        "        description=\"Current status of the task\",\n",
        "        default=\"not started\"\n",
        "    )\n",
        "\n",
        "# Create the Trustcall extractor for updating the user profile\n",
        "profile_extractor = create_extractor(\n",
        "    model,\n",
        "    tools=[Profile],\n",
        "    tool_choice=\"Profile\",\n",
        ")\n",
        "\n",
        "# Chatbot instruction for choosing what to update and what tools to call\n",
        "MODEL_SYSTEM_MESSAGE = \"\"\"You are a helpful chatbot.\n",
        "\n",
        "You are designed to be a companion to a user, helping them keep track of their WishList list.\n",
        "\n",
        "You have a long term memory which keeps track of three things:\n",
        "1. The user's profile (general information about them)\n",
        "2. The user's WishList list\n",
        "3. General instructions for updating the WishList list\n",
        "\n",
        "Here is the current User Profile (may be empty if no information has been collected yet):\n",
        "<user_profile>\n",
        "{user_profile}\n",
        "</user_profile>\n",
        "\n",
        "Here is the current WishList List (may be empty if no tasks have been added yet):\n",
        "<wishlist>\n",
        "{wishlist}\n",
        "</wishlist>\n",
        "\n",
        "Here are the current user-specified preferences for updating the WishList list (may be empty if no preferences have been specified yet):\n",
        "<instructions>\n",
        "{instructions}\n",
        "</instructions>\n",
        "\n",
        "Here are your instructions for reasoning about the user's messages:\n",
        "\n",
        "1. Reason carefully about the user's messages as presented below.\n",
        "\n",
        "2. Decide whether any of the your long-term memory should be updated:\n",
        "- If personal information was provided about the user, update the user's profile by calling UpdateMemory tool with type `user`\n",
        "- If tasks are mentioned, update the WishList list by calling UpdateMemory tool with type `wishlist`\n",
        "- If the user has specified preferences for how to update the WishList list, update the instructions by calling UpdateMemory tool with type `instructions`\n",
        "\n",
        "3. Tell the user that you have updated your memory, if appropriate:\n",
        "- Do not tell the user you have updated the user's profile\n",
        "- Tell the user them when you update the wishlist list\n",
        "- Do not tell the user that you have updated instructions\n",
        "\n",
        "4. Err on the side of updating the wishlist list. No need to ask for explicit permission.\n",
        "\n",
        "5. Respond naturally to user user after a tool call was made to save memories, or if no tool call was made.\"\"\"\n",
        "\n",
        "# Trustcall instruction\n",
        "TRUSTCALL_INSTRUCTION = \"\"\"Reflect on following interaction.\n",
        "\n",
        "Use the provided tools to retain any necessary memories about the user.\n",
        "\n",
        "Use parallel tool calling to handle updates and insertions simultaneously.\n",
        "\n",
        "System Time: {time}\"\"\"\n",
        "\n",
        "# Instructions for updating the WishList list\n",
        "CREATE_INSTRUCTIONS = \"\"\"Reflect on the following interaction.\n",
        "\n",
        "Based on this interaction, update your instructions for how to update WishList list items.\n",
        "\n",
        "Use any feedback from the user to update how they like to have items added, etc.\n",
        "\n",
        "Your current instructions are:\n",
        "\n",
        "<current_instructions>\n",
        "{current_instructions}\n",
        "</current_instructions>\"\"\"\n",
        "\n",
        "# Node definitions\n",
        "def chat_mAIstro(state: MessagesState, config: RunnableConfig, store: BaseStore):\n",
        "\n",
        "    \"\"\"Load memories from the store and use them to personalize the chatbot's response.\"\"\"\n",
        "\n",
        "    # Get the user ID from the config\n",
        "    user_id = config[\"configurable\"][\"user_id\"]\n",
        "\n",
        "    # Retrieve profile memory from the store\n",
        "    namespace = (\"profile\", user_id)\n",
        "    memories = store.search(namespace)\n",
        "    if memories:\n",
        "        user_profile = memories[0].value\n",
        "    else:\n",
        "        user_profile = None\n",
        "\n",
        "    # Retrieve task memory from the store\n",
        "    namespace = (\"wishlist\", user_id)\n",
        "    memories = store.search(namespace)\n",
        "    wishlist = \"\\n\".join(f\"{mem.value}\" for mem in memories)\n",
        "\n",
        "    # Retrieve custom instructions\n",
        "    namespace = (\"instructions\", user_id)\n",
        "    memories = store.search(namespace)\n",
        "    if memories:\n",
        "        instructions = memories[0].value\n",
        "    else:\n",
        "        instructions = \"\"\n",
        "\n",
        "    system_msg = MODEL_SYSTEM_MESSAGE.format(user_profile=user_profile, wishlist=wishlist, instructions=instructions)\n",
        "\n",
        "    # Respond using memory as well as the chat history\n",
        "    response = model.bind_tools([UpdateMemory], parallel_tool_calls=False).invoke([SystemMessage(content=system_msg)]+state[\"messages\"])\n",
        "\n",
        "    return {\"messages\": [response]}\n",
        "\n",
        "def update_profile(state: MessagesState, config: RunnableConfig, store: BaseStore):\n",
        "\n",
        "    \"\"\"Reflect on the chat history and update the memory collection.\"\"\"\n",
        "\n",
        "    # Get the user ID from the config\n",
        "    user_id = config[\"configurable\"][\"user_id\"]\n",
        "\n",
        "    # Define the namespace for the memories\n",
        "    namespace = (\"profile\", user_id)\n",
        "\n",
        "    # Retrieve the most recent memories for context\n",
        "    existing_items = store.search(namespace)\n",
        "\n",
        "    # Format the existing memories for the Trustcall extractor\n",
        "    tool_name = \"Profile\"\n",
        "    existing_memories = ([(existing_item.key, tool_name, existing_item.value)\n",
        "                          for existing_item in existing_items]\n",
        "                          if existing_items\n",
        "                          else None\n",
        "                        )\n",
        "\n",
        "    # Merge the chat history and the instruction\n",
        "    TRUSTCALL_INSTRUCTION_FORMATTED=TRUSTCALL_INSTRUCTION.format(time=datetime.now().isoformat())\n",
        "    updated_messages=list(merge_message_runs(messages=[SystemMessage(content=TRUSTCALL_INSTRUCTION_FORMATTED)] + state[\"messages\"][:-1]))\n",
        "\n",
        "    # Invoke the extractor\n",
        "    result = profile_extractor.invoke({\"messages\": updated_messages,\n",
        "                                         \"existing\": existing_memories})\n",
        "\n",
        "    # Save the memories from Trustcall to the store\n",
        "    for r, rmeta in zip(result[\"responses\"], result[\"response_metadata\"]):\n",
        "        store.put(namespace,\n",
        "                  rmeta.get(\"json_doc_id\", str(uuid.uuid4())),\n",
        "                  r.model_dump(mode=\"json\"),\n",
        "            )\n",
        "    tool_calls = state['messages'][-1].tool_calls\n",
        "    return {\"messages\": [{\"role\": \"tool\", \"content\": \"updated profile\", \"tool_call_id\":tool_calls[0]['id']}]}\n",
        "\n",
        "def update_wishlists(state: MessagesState, config: RunnableConfig, store: BaseStore):\n",
        "\n",
        "    \"\"\"Reflect on the chat history and update the memory collection.\"\"\"\n",
        "\n",
        "    # Get the user ID from the config\n",
        "    user_id = config[\"configurable\"][\"user_id\"]\n",
        "\n",
        "    # Define the namespace for the memories\n",
        "    namespace = (\"wishlist\", user_id)\n",
        "\n",
        "    # Retrieve the most recent memories for context\n",
        "    existing_items = store.search(namespace)\n",
        "\n",
        "    # Format the existing memories for the Trustcall extractor\n",
        "    tool_name = \"WishList\"\n",
        "    existing_memories = ([(existing_item.key, tool_name, existing_item.value)\n",
        "                          for existing_item in existing_items]\n",
        "                          if existing_items\n",
        "                          else None\n",
        "                        )\n",
        "\n",
        "    # Merge the chat history and the instruction\n",
        "    TRUSTCALL_INSTRUCTION_FORMATTED=TRUSTCALL_INSTRUCTION.format(time=datetime.now().isoformat())\n",
        "    updated_messages=list(merge_message_runs(messages=[SystemMessage(content=TRUSTCALL_INSTRUCTION_FORMATTED)] + state[\"messages\"][:-1]))\n",
        "\n",
        "    # Initialize the spy for visibility into the tool calls made by Trustcall\n",
        "    spy = Spy()\n",
        "\n",
        "    # Create the Trustcall extractor for updating the WishList list\n",
        "    wishlist_extractor = create_extractor(\n",
        "    model,\n",
        "    tools=[WishList],\n",
        "    tool_choice=tool_name,\n",
        "    enable_inserts=True\n",
        "    ).with_listeners(on_end=spy)\n",
        "\n",
        "    # Invoke the extractor\n",
        "    result = wishlist_extractor.invoke({\"messages\": updated_messages,\n",
        "                                    \"existing\": existing_memories})\n",
        "\n",
        "    # Save the memories from Trustcall to the store\n",
        "    for r, rmeta in zip(result[\"responses\"], result[\"response_metadata\"]):\n",
        "        store.put(namespace,\n",
        "                  rmeta.get(\"json_doc_id\", str(uuid.uuid4())),\n",
        "                  r.model_dump(mode=\"json\"),\n",
        "            )\n",
        "\n",
        "    # Respond to the tool call made in chat_mAIstro, confirming the update\n",
        "    tool_calls = state['messages'][-1].tool_calls\n",
        "\n",
        "    # Extract the changes made by Trustcall and add the the ToolMessage returned to chat_mAIstro\n",
        "    wishlist_update_msg = extract_tool_info(spy.called_tools, tool_name)\n",
        "    return {\"messages\": [{\"role\": \"tool\", \"content\": wishlist_update_msg, \"tool_call_id\":tool_calls[0]['id']}]}\n",
        "\n",
        "def update_instructions(state: MessagesState, config: RunnableConfig, store: BaseStore):\n",
        "\n",
        "    \"\"\"Reflect on the chat history and update the memory collection.\"\"\"\n",
        "\n",
        "    # Get the user ID from the config\n",
        "    user_id = config[\"configurable\"][\"user_id\"]\n",
        "\n",
        "    namespace = (\"instructions\", user_id)\n",
        "\n",
        "    existing_memory = store.get(namespace, \"user_instructions\")\n",
        "\n",
        "    # Format the memory in the system prompt\n",
        "    system_msg = CREATE_INSTRUCTIONS.format(current_instructions=existing_memory.value if existing_memory else None)\n",
        "    new_memory = model.invoke([SystemMessage(content=system_msg)]+state['messages'][:-1] + [HumanMessage(content=\"Please update the instructions based on the conversation\")])\n",
        "\n",
        "    # Overwrite the existing memory in the store\n",
        "    key = \"user_instructions\"\n",
        "    store.put(namespace, key, {\"memory\": new_memory.content})\n",
        "    tool_calls = state['messages'][-1].tool_calls\n",
        "    return {\"messages\": [{\"role\": \"tool\", \"content\": \"updated instructions\", \"tool_call_id\":tool_calls[0]['id']}]}\n",
        "\n",
        "# Conditional edge\n",
        "def route_message(state: MessagesState, config: RunnableConfig, store: BaseStore) -> Literal[END, \"update_wishlists\", \"update_instructions\", \"update_profile\"]:\n",
        "\n",
        "    \"\"\"Reflect on the memories and chat history to decide whether to update the memory collection.\"\"\"\n",
        "    message = state['messages'][-1]\n",
        "    if len(message.tool_calls) ==0:\n",
        "        return END\n",
        "    else:\n",
        "        tool_call = message.tool_calls[0]\n",
        "        if tool_call['args']['update_type'] == \"user\":\n",
        "            return \"update_profile\"\n",
        "        elif tool_call['args']['update_type'] == \"wishlist\":\n",
        "            return \"update_wishlists\"\n",
        "        elif tool_call['args']['update_type'] == \"instructions\":\n",
        "            return \"update_instructions\"\n",
        "        else:\n",
        "            raise ValueError\n",
        "\n"
      ],
      "metadata": {
        "id": "sKj2MSMfPI1i"
      },
      "execution_count": 33,
      "outputs": []
    },
    {
      "cell_type": "markdown",
      "source": [
        "Define graph logic, nodes and edge"
      ],
      "metadata": {
        "id": "XUup-DXXPNqx"
      }
    },
    {
      "cell_type": "code",
      "source": [
        "# Create the graph + all nodes\n",
        "builder = StateGraph(MessagesState)\n",
        "\n",
        "# Define the flow of the memory extraction process\n",
        "builder.add_node(chat_mAIstro)\n",
        "builder.add_node(update_wishlists)\n",
        "builder.add_node(update_profile)\n",
        "builder.add_node(update_instructions)\n",
        "builder.add_edge(START, \"chat_mAIstro\")\n",
        "builder.add_conditional_edges(\"chat_mAIstro\", route_message)\n",
        "builder.add_edge(\"update_wishlists\", \"chat_mAIstro\")\n",
        "builder.add_edge(\"update_profile\", \"chat_mAIstro\")\n",
        "builder.add_edge(\"update_instructions\", \"chat_mAIstro\")\n",
        "\n",
        "# Store for long-term (across-thread) memory\n",
        "across_thread_memory = InMemoryStore()\n",
        "\n",
        "# Checkpointer for short-term (within-thread) memory\n",
        "within_thread_memory = MemorySaver()\n",
        "\n",
        "# We compile the graph with the checkpointer and store\n",
        "graph = builder.compile(checkpointer=within_thread_memory, store=across_thread_memory)\n",
        "\n",
        "# View\n",
        "display(Image(graph.get_graph(xray=1).draw_mermaid_png()))"
      ],
      "metadata": {
        "colab": {
          "base_uri": "https://localhost:8080/",
          "height": 266
        },
        "id": "Z__TB7EFPT18",
        "outputId": "d63760ba-007d-4e23-92bf-47063e2519fa"
      },
      "execution_count": 34,
      "outputs": [
        {
          "output_type": "display_data",
          "data": {
            "image/png": "[encoded data removed]",
            "text/plain": [
              "<IPython.core.display.Image object>"
            ]
          },
          "metadata": {}
        }
      ]
    },
    {
      "cell_type": "markdown",
      "source": [
        "# Test your graph\n",
        "provide some basic detais\n",
        "\n",
        "thread ID for short-term (within-thread) memory\n",
        "\n",
        "user ID for long-term (across-thread) memory"
      ],
      "metadata": {
        "id": "CVagXpmURsFe"
      }
    },
    {
      "cell_type": "code",
      "source": [
        "# We supply a thread ID for short-term (within-thread) memory\n",
        "# We supply a user ID for long-term (across-thread) memory\n",
        "config = {\"configurable\": {\"thread_id\": \"1\", \"user_id\": \"Khan\"}}\n",
        "\n",
        "# User input to create a profile memory\n",
        "input_messages = [HumanMessage(content=\"My name is Khan. I live in Lahore with my family. I have 3 family memberat my house.\")]\n",
        "\n",
        "# Run the graph\n",
        "for chunk in graph.stream({\"messages\": input_messages}, config, stream_mode=\"values\"):\n",
        "    chunk[\"messages\"][-1].pretty_print()"
      ],
      "metadata": {
        "colab": {
          "base_uri": "https://localhost:8080/"
        },
        "id": "3ZzojqQFNznO",
        "outputId": "2d0e1a69-eca7-4aac-e357-d49a67e7cbe0"
      },
      "execution_count": 36,
      "outputs": [
        {
          "output_type": "stream",
          "name": "stdout",
          "text": [
            "================================\u001b[1m Human Message \u001b[0m=================================\n",
            "\n",
            "My name is Khan. I live in Lahore with my family. I have 3 family memberat my house.\n",
            "==================================\u001b[1m Ai Message \u001b[0m==================================\n",
            "Tool Calls:\n",
            "  UpdateMemory (call_PqHb1iiSy6M7RTg0OmLrXPXT)\n",
            " Call ID: call_PqHb1iiSy6M7RTg0OmLrXPXT\n",
            "  Args:\n",
            "    update_type: user\n",
            "=================================\u001b[1m Tool Message \u001b[0m=================================\n",
            "\n",
            "updated profile\n",
            "==================================\u001b[1m Ai Message \u001b[0m==================================\n",
            "\n",
            "Got it, Khan! If there's anything you'd like to add to your WishList or if you have any specific preferences, feel free to let me know.\n"
          ]
        }
      ]
    },
    {
      "cell_type": "code",
      "source": [
        "# User input for a ToDo\n",
        "input_messages = [HumanMessage(content=\"My sister asked me to book swim lessons for her.\")]\n",
        "\n",
        "# Run the graph\n",
        "for chunk in graph.stream({\"messages\": input_messages}, config, stream_mode=\"values\"):\n",
        "    chunk[\"messages\"][-1].pretty_print()"
      ],
      "metadata": {
        "colab": {
          "base_uri": "https://localhost:8080/"
        },
        "id": "BZqvRnR8SarV",
        "outputId": "b88183a2-9173-429e-c7ba-363890c63920"
      },
      "execution_count": 37,
      "outputs": [
        {
          "output_type": "stream",
          "name": "stdout",
          "text": [
            "================================\u001b[1m Human Message \u001b[0m=================================\n",
            "\n",
            "My sister asked me to book swim lessons for her.\n",
            "==================================\u001b[1m Ai Message \u001b[0m==================================\n",
            "Tool Calls:\n",
            "  UpdateMemory (call_amMzrEjFZ1TsfhRCH4z7GXyb)\n",
            " Call ID: call_amMzrEjFZ1TsfhRCH4z7GXyb\n",
            "  Args:\n",
            "    update_type: wishlist\n",
            "=================================\u001b[1m Tool Message \u001b[0m=================================\n",
            "\n",
            "New WishList created:\n",
            "Content: {'task': 'Book swim lessons for sister', 'time_to_complete': 60, 'solutions': ['Check local swimming pools for lesson availability', 'Look for private swim instructors online', 'Consider group classes for better rates'], 'status': 'not started'}\n",
            "==================================\u001b[1m Ai Message \u001b[0m==================================\n",
            "\n",
            "I've added \"Book swim lessons for sister\" to your WishList. If you need any help with this task or want to update it, just let me know!\n"
          ]
        }
      ]
    },
    {
      "cell_type": "code",
      "source": [
        "# User input to update instructions for creating Wish Lists\n",
        "input_messages = [HumanMessage(content=\"When creating or updating WishList items, include specific local businesses / vendors.\")]\n",
        "\n",
        "# Run the graph\n",
        "for chunk in graph.stream({\"messages\": input_messages}, config, stream_mode=\"values\"):\n",
        "    chunk[\"messages\"][-1].pretty_print()"
      ],
      "metadata": {
        "colab": {
          "base_uri": "https://localhost:8080/"
        },
        "id": "a1InMdNYSqs3",
        "outputId": "7eebf92b-bd28-407b-97c5-7f7f1e644ca8"
      },
      "execution_count": 38,
      "outputs": [
        {
          "output_type": "stream",
          "name": "stdout",
          "text": [
            "================================\u001b[1m Human Message \u001b[0m=================================\n",
            "\n",
            "When creating or updating WishList items, include specific local businesses / vendors.\n",
            "==================================\u001b[1m Ai Message \u001b[0m==================================\n",
            "Tool Calls:\n",
            "  UpdateMemory (call_PmvG4gCi6osGe6Tw1xjhrvNT)\n",
            " Call ID: call_PmvG4gCi6osGe6Tw1xjhrvNT\n",
            "  Args:\n",
            "    update_type: instructions\n",
            "=================================\u001b[1m Tool Message \u001b[0m=================================\n",
            "\n",
            "updated instructions\n",
            "==================================\u001b[1m Ai Message \u001b[0m==================================\n",
            "\n",
            "Got it! I'll make sure to include specific local businesses or vendors when creating or updating your WishList items. If there's anything else you'd like to adjust, just let me know!\n"
          ]
        }
      ]
    },
    {
      "cell_type": "code",
      "source": [
        "# Check for updated instructions\n",
        "user_id = \"Khan\"\n",
        "\n",
        "# Search\n",
        "for memory in across_thread_memory.search((\"instructions\", user_id)):\n",
        "    print(memory.value)"
      ],
      "metadata": {
        "colab": {
          "base_uri": "https://localhost:8080/"
        },
        "id": "3Btnq1_5S5RW",
        "outputId": "379829d5-8a61-4a23-a2de-2867702efeb7"
      },
      "execution_count": 39,
      "outputs": [
        {
          "output_type": "stream",
          "name": "stdout",
          "text": [
            "{'memory': 'Based on your feedback, here are the updated instructions for managing your WishList items:\\n\\n1. **Task Description**: Clearly state the task or item to be added to the WishList.\\n   \\n2. **Local Recommendations**: Include specific local businesses or vendors relevant to the task. For example, if booking swim lessons, suggest local swimming pools or instructors in the area.\\n\\n3. **Time to Complete**: Estimate the time required to complete the task, if applicable.\\n\\n4. **Solutions/Options**: Provide a list of potential solutions or options to accomplish the task, including local options.\\n\\n5. **Status**: Track the status of the task (e.g., not started, in progress, completed).\\n\\nIf you have any more preferences or need further customization, feel free to let me know!'}\n"
          ]
        }
      ]
    },
    {
      "cell_type": "code",
      "source": [
        "# User input for a WishList\n",
        "input_messages = [HumanMessage(content=\"I need to fix the jammed electric Yale lock on the car door.\")]\n",
        "\n",
        "# Run the graph\n",
        "for chunk in graph.stream({\"messages\": input_messages}, config, stream_mode=\"values\"):\n",
        "    chunk[\"messages\"][-1].pretty_print()"
      ],
      "metadata": {
        "colab": {
          "base_uri": "https://localhost:8080/"
        },
        "id": "9-MJKZf2TBpU",
        "outputId": "99d74492-bb52-4d8e-a389-161aa3601823"
      },
      "execution_count": 40,
      "outputs": [
        {
          "output_type": "stream",
          "name": "stdout",
          "text": [
            "================================\u001b[1m Human Message \u001b[0m=================================\n",
            "\n",
            "I need to fix the jammed electric Yale lock on the car door.\n",
            "==================================\u001b[1m Ai Message \u001b[0m==================================\n",
            "Tool Calls:\n",
            "  UpdateMemory (call_3BPyvgi7nkVN5D5WH3L324Pp)\n",
            " Call ID: call_3BPyvgi7nkVN5D5WH3L324Pp\n",
            "  Args:\n",
            "    update_type: wishlist\n",
            "=================================\u001b[1m Tool Message \u001b[0m=================================\n",
            "\n",
            "New WishList created:\n",
            "Content: {'task': 'Fix jammed electric Yale lock on car door', 'time_to_complete': 90, 'solutions': ['Contact local locksmiths specializing in car locks', 'Check for Yale service centers nearby', 'Look for DIY repair guides online'], 'status': 'not started'}\n",
            "\n",
            "Document 1296a173-60c9-4efb-ae78-52bf4c3f17b6 updated:\n",
            "Plan: Add specific local businesses or vendors to the solutions for booking swim lessons.\n",
            "Added content: ['Check local swimming pools like Lahore Gymkhana or Punjab Club for lesson availability', 'Look for private swim instructors online through platforms like OLX or local Facebook groups', 'Consider group classes at community centers such as Model Town Club for better rates']\n",
            "==================================\u001b[1m Ai Message \u001b[0m==================================\n",
            "\n",
            "I've added \"Fix jammed electric Yale lock on car door\" to your WishList. If you need any assistance or further updates, feel free to ask!\n"
          ]
        }
      ]
    },
    {
      "cell_type": "code",
      "source": [
        "# Namespace for the memory to save\n",
        "user_id = \"Khan\"\n",
        "\n",
        "# Search\n",
        "for memory in across_thread_memory.search((\"wishlist\", user_id)):\n",
        "    print(memory.value)"
      ],
      "metadata": {
        "colab": {
          "base_uri": "https://localhost:8080/"
        },
        "id": "qGcGs54gS06G",
        "outputId": "9b281738-6a7d-4fde-ed40-79f2bda6883e"
      },
      "execution_count": 41,
      "outputs": [
        {
          "output_type": "stream",
          "name": "stdout",
          "text": [
            "{'task': 'Book swim lessons for sister', 'time_to_complete': 60, 'deadline': None, 'solutions': ['Check local swimming pools like Lahore Gymkhana or Punjab Club for lesson availability', 'Look for private swim instructors online through platforms like OLX or local Facebook groups', 'Consider group classes at community centers such as Model Town Club for better rates'], 'status': 'not started'}\n",
            "{'task': 'Fix jammed electric Yale lock on car door', 'time_to_complete': 90, 'deadline': None, 'solutions': ['Contact local locksmiths specializing in car locks', 'Check for Yale service centers nearby', 'Look for DIY repair guides online'], 'status': 'not started'}\n"
          ]
        }
      ]
    },
    {
      "cell_type": "code",
      "source": [
        "# User input to update an existing Wish List\n",
        "input_messages = [HumanMessage(content=\"For the swim lessons, I need to get that done by end of March.\")]\n",
        "\n",
        "# Run the graph\n",
        "for chunk in graph.stream({\"messages\": input_messages}, config, stream_mode=\"values\"):\n",
        "    chunk[\"messages\"][-1].pretty_print()"
      ],
      "metadata": {
        "colab": {
          "base_uri": "https://localhost:8080/"
        },
        "id": "vUBGvpMnS1T6",
        "outputId": "a1537459-365b-491c-ea6d-4b3b3c160d31"
      },
      "execution_count": 42,
      "outputs": [
        {
          "output_type": "stream",
          "name": "stdout",
          "text": [
            "================================\u001b[1m Human Message \u001b[0m=================================\n",
            "\n",
            "For the swim lessons, I need to get that done by end of March.\n",
            "==================================\u001b[1m Ai Message \u001b[0m==================================\n",
            "Tool Calls:\n",
            "  UpdateMemory (call_RfTWYFDynlkcD6Dtu12Xtyhx)\n",
            " Call ID: call_RfTWYFDynlkcD6Dtu12Xtyhx\n",
            "  Args:\n",
            "    update_type: wishlist\n",
            "=================================\u001b[1m Tool Message \u001b[0m=================================\n",
            "\n",
            "Document 1296a173-60c9-4efb-ae78-52bf4c3f17b6 updated:\n",
            "Plan: Add a deadline to the task for booking swim lessons to ensure it is completed by the end of March.\n",
            "Added content: 2025-03-31T23:59:59\n",
            "==================================\u001b[1m Ai Message \u001b[0m==================================\n",
            "\n",
            "I've updated the swim lessons task with a deadline for the end of March. If there's anything else you'd like to adjust, just let me know!\n"
          ]
        }
      ]
    },
    {
      "cell_type": "markdown",
      "source": [
        "We can see that Trustcall performs patching of the existing memory:"
      ],
      "metadata": {
        "id": "qSplF2ztTjNK"
      }
    },
    {
      "cell_type": "code",
      "source": [
        "# User input for a Wish List\n",
        "input_messages = [HumanMessage(content=\"Need to call back City Toyota to schedule car service.\")]\n",
        "\n",
        "# Run the graph\n",
        "for chunk in graph.stream({\"messages\": input_messages}, config, stream_mode=\"values\"):\n",
        "    chunk[\"messages\"][-1].pretty_print()"
      ],
      "metadata": {
        "colab": {
          "base_uri": "https://localhost:8080/"
        },
        "id": "7UCN2EXWTtot",
        "outputId": "ecd4188c-90a5-4af7-f683-37cdead8a33e"
      },
      "execution_count": 43,
      "outputs": [
        {
          "output_type": "stream",
          "name": "stdout",
          "text": [
            "================================\u001b[1m Human Message \u001b[0m=================================\n",
            "\n",
            "Need to call back City Toyota to schedule car service.\n",
            "==================================\u001b[1m Ai Message \u001b[0m==================================\n",
            "Tool Calls:\n",
            "  UpdateMemory (call_HuBmumtOEgVCk3zCLMPg2VTw)\n",
            " Call ID: call_HuBmumtOEgVCk3zCLMPg2VTw\n",
            "  Args:\n",
            "    update_type: wishlist\n",
            "=================================\u001b[1m Tool Message \u001b[0m=================================\n",
            "\n",
            "New WishList created:\n",
            "Content: {'task': 'Call back City Toyota to schedule car service', 'time_to_complete': 15, 'solutions': ['Find the contact number for City Toyota', 'Check available dates for service', 'Prepare any questions or concerns about the car service'], 'status': 'not started'}\n",
            "\n",
            "Document fd85015d-4832-40c0-a30e-9ed18d1e6142 updated:\n",
            "Plan: Add specific local businesses or vendors to the solutions for fixing the jammed electric Yale lock.\n",
            "Added content: Contact local locksmiths like Lahore Lock Masters or City Lock Services specializing in car locks\n",
            "==================================\u001b[1m Ai Message \u001b[0m==================================\n",
            "\n",
            "I've added \"Call back City Toyota to schedule car service\" to your WishList. If you need any help with this task or want to update it, just let me know!\n"
          ]
        }
      ]
    },
    {
      "cell_type": "code",
      "source": [
        "# Namespace for the memory to save\n",
        "user_id = \"Khan\"\n",
        "\n",
        "# Search\n",
        "for memory in across_thread_memory.search((\"wishlist\", user_id)):\n",
        "    print(memory.value)"
      ],
      "metadata": {
        "colab": {
          "base_uri": "https://localhost:8080/"
        },
        "id": "hRwGPmRkT4HI",
        "outputId": "de1ee768-e324-49ef-967b-9378d0a5d413"
      },
      "execution_count": 44,
      "outputs": [
        {
          "output_type": "stream",
          "name": "stdout",
          "text": [
            "{'task': 'Book swim lessons for sister', 'time_to_complete': 60, 'deadline': '2025-03-31T23:59:59', 'solutions': ['Check local swimming pools like Lahore Gymkhana or Punjab Club for lesson availability', 'Look for private swim instructors online through platforms like OLX or local Facebook groups', 'Consider group classes at community centers such as Model Town Club for better rates'], 'status': 'not started'}\n",
            "{'task': 'Fix jammed electric Yale lock on car door', 'time_to_complete': 90, 'deadline': None, 'solutions': ['Contact local locksmiths like Lahore Lock Masters or City Lock Services specializing in car locks', 'Check for Yale service centers nearby, such as the one in Gulberg', 'Look for DIY repair guides online, such as YouTube tutorials or auto repair forums'], 'status': 'not started'}\n",
            "{'task': 'Call back City Toyota to schedule car service', 'time_to_complete': 15, 'deadline': None, 'solutions': ['Find the contact number for City Toyota', 'Check available dates for service', 'Prepare any questions or concerns about the car service'], 'status': 'not started'}\n"
          ]
        }
      ]
    },
    {
      "cell_type": "markdown",
      "source": [
        "Now we can create a new thread.\n",
        "\n",
        "This creates a new session.\n",
        "\n",
        "Profile, WishList, and Instructions saved to long-term memory are accessed."
      ],
      "metadata": {
        "id": "J72PAr9eUDng"
      }
    },
    {
      "cell_type": "code",
      "source": [
        "# We supply a thread ID for short-term (within-thread) memory\n",
        "# We supply a user ID for long-term (across-thread) memory\n",
        "config = {\"configurable\": {\"thread_id\": \"2\", \"user_id\": \"Khan\"}}\n",
        "\n",
        "# Chat with the chatbot\n",
        "input_messages = [HumanMessage(content=\"I have 30 minutes, what tasks can I get done?\")]\n",
        "\n",
        "# Run the graph\n",
        "for chunk in graph.stream({\"messages\": input_messages}, config, stream_mode=\"values\"):\n",
        "    chunk[\"messages\"][-1].pretty_print()"
      ],
      "metadata": {
        "colab": {
          "base_uri": "https://localhost:8080/"
        },
        "id": "QRB1g7htUKFY",
        "outputId": "d0344944-b466-4283-dfac-c67e2f8bd0e1"
      },
      "execution_count": 45,
      "outputs": [
        {
          "output_type": "stream",
          "name": "stdout",
          "text": [
            "================================\u001b[1m Human Message \u001b[0m=================================\n",
            "\n",
            "I have 30 minutes, what tasks can I get done?\n",
            "==================================\u001b[1m Ai Message \u001b[0m==================================\n",
            "\n",
            "Based on your available time, you can complete the following task from your WishList:\n",
            "\n",
            "- **Call back City Toyota to schedule car service**: This task is estimated to take 15 minutes.\n",
            "\n",
            "Would you like to proceed with this task, or do you need any assistance with it?\n"
          ]
        }
      ]
    },
    {
      "cell_type": "code",
      "source": [
        "# Chat with the chatbot\n",
        "input_messages = [HumanMessage(content=\"Yes, give me some options to call for swim lessons.\")]\n",
        "\n",
        "# Run the graph\n",
        "for chunk in graph.stream({\"messages\": input_messages}, config, stream_mode=\"values\"):\n",
        "    chunk[\"messages\"][-1].pretty_print()"
      ],
      "metadata": {
        "colab": {
          "base_uri": "https://localhost:8080/"
        },
        "id": "d3bSzaGwUGFx",
        "outputId": "eb4abf94-b8bd-4acc-afab-6602f6022817"
      },
      "execution_count": 46,
      "outputs": [
        {
          "output_type": "stream",
          "name": "stdout",
          "text": [
            "================================\u001b[1m Human Message \u001b[0m=================================\n",
            "\n",
            "Yes, give me some options to call for swim lessons.\n",
            "==================================\u001b[1m Ai Message \u001b[0m==================================\n",
            "\n",
            "Here are some options for booking swim lessons in Lahore:\n",
            "\n",
            "1. **Local Swimming Pools**:\n",
            "   - Lahore Gymkhana: Check their availability for swim lessons.\n",
            "   - Punjab Club: Inquire about their swim lesson schedules.\n",
            "\n",
            "2. **Private Swim Instructors**:\n",
            "   - Look for instructors on platforms like OLX or local Facebook groups where private lessons might be advertised.\n",
            "\n",
            "3. **Community Centers**:\n",
            "   - Model Town Club: They might offer group classes, which could be more cost-effective.\n",
            "\n",
            "If you need more information or help with contacting any of these options, feel free to ask!\n"
          ]
        }
      ]
    },
    {
      "cell_type": "markdown",
      "source": [],
      "metadata": {
        "id": "IZDGh_1-T0AP"
      }
    }
  ],
  "metadata": {
    "colab": {
      "provenance": [],
      "authorship_tag": "ABX9TyPFQkkb4XI6fLPh+fe9u9sA",
      "include_colab_link": true
    },
    "kernelspec": {
      "display_name": "Python 3",
      "name": "python3"
    },
    "language_info": {
      "name": "python"
    }
  },
  "nbformat": 4,
  "nbformat_minor": 0
}