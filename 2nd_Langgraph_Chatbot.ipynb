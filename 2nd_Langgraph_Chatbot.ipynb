{
  "cells": [
    {
      "cell_type": "markdown",
      "metadata": {
        "id": "view-in-github",
        "colab_type": "text"
      },
      "source": [
        "<a href=\"https://colab.research.google.com/github/Shafqatsarwar/Google_colab_langchain_gemini/blob/main/2nd_Langgraph_Chatbot.ipynb\" target=\"_parent\"><img src=\"https://colab.research.google.com/assets/colab-badge.svg\" alt=\"Open In Colab\"/></a>"
      ]
    },
    {
      "cell_type": "markdown",
      "metadata": {
        "id": "k9cBfr2Y9LaF"
      },
      "source": [
        "# Research Assistant\n",
        "\n",
        "Now, we'll bring all ideas together to tackle one of AI's most popular applications: research automation.\n",
        "\n",
        "Research demands customization: raw LLM outputs are often poorly suited for real-world decision-making workflows.\n",
        "\n",
        "Customized, AI-based research and report generation workflows are a promising way to address this.\n",
        "\n",
        "Goal:\n",
        "\n",
        "Our goal is to build a lightweight, multi-agent system around chat models that customizes the research process.\n",
        "\n",
        "Source Selection:\n",
        "\n",
        "Users can choose any set of input sources for their research.\n",
        "\n",
        "Planning:\n",
        "\n",
        "Users provide a topic, and the system generates a team of AI analysts, each focusing on one sub-topic.\n",
        "\n",
        " * Human-in-the-loop\n",
        "\n",
        " Will be used to refine these sub-topics before research begins.\n",
        " * LLM Utilization\n",
        "\n",
        " Each analyst will conduct in-depth search with an expert AI using the selected sources.\n",
        " * Research Process\n",
        "\n",
        " Experts will gather information to answer analyst questions in parallel.\n",
        "And all searchs will be conducted simultaneously through map-reduce.\n",
        "Output Format\n",
        "\n",
        "We'll use customizable prompts for the report, allowing for a flexible output format."
      ]
    },
    {
      "cell_type": "code",
      "execution_count": 2,
      "metadata": {
        "id": "ZZiiwNbN8P5F",
        "colab": {
          "base_uri": "https://localhost:8080/"
        },
        "outputId": "cc1aadba-d6a6-48e7-8511-381dbc29ac51"
      },
      "outputs": [
        {
          "output_type": "stream",
          "name": "stdout",
          "text": [
            "Requirement already satisfied: httpx==0.27.2 in /usr/local/lib/python3.10/dist-packages (0.27.2)\n",
            "Requirement already satisfied: anyio in /usr/local/lib/python3.10/dist-packages (from httpx==0.27.2) (3.7.1)\n",
            "Requirement already satisfied: certifi in /usr/local/lib/python3.10/dist-packages (from httpx==0.27.2) (2024.8.30)\n",
            "Requirement already satisfied: httpcore==1.* in /usr/local/lib/python3.10/dist-packages (from httpx==0.27.2) (1.0.7)\n",
            "Requirement already satisfied: idna in /usr/local/lib/python3.10/dist-packages (from httpx==0.27.2) (3.10)\n",
            "Requirement already satisfied: sniffio in /usr/local/lib/python3.10/dist-packages (from httpx==0.27.2) (1.3.1)\n",
            "Requirement already satisfied: h11<0.15,>=0.13 in /usr/local/lib/python3.10/dist-packages (from httpcore==1.*->httpx==0.27.2) (0.14.0)\n",
            "Requirement already satisfied: exceptiongroup in /usr/local/lib/python3.10/dist-packages (from anyio->httpx==0.27.2) (1.2.2)\n"
          ]
        }
      ],
      "source": [
        "%pip install --quiet -U langgraph langchain langchain_openai langchain_community langchain_core tavily-python wikipedia\n",
        "# %pip install -q -U langchain-google-genai\n",
        "%pip install httpx==0.27.2"
      ]
    },
    {
      "cell_type": "markdown",
      "source": [
        "# Setup"
      ],
      "metadata": {
        "id": "y8f5TN4mljey"
      }
    },
    {
      "cell_type": "code",
      "source": [
        "import os, getpass\n",
        "\n",
        "def _set_env(var: str):\n",
        "    if not os.environ.get(var):\n",
        "        os.environ[var] = getpass.getpass(f\"{var}: \")\n",
        "\n",
        "_set_env(\"OPENAI_API_KEY\")"
      ],
      "metadata": {
        "colab": {
          "base_uri": "https://localhost:8080/"
        },
        "id": "dX3KkUgB__fH",
        "outputId": "02a1c570-bafc-43d7-922b-9593cb5e0160"
      },
      "execution_count": 3,
      "outputs": [
        {
          "name": "stdout",
          "output_type": "stream",
          "text": [
            "OPENAI_API_KEY: ··········\n"
          ]
        }
      ]
    },
    {
      "cell_type": "code",
      "source": [
        "from langchain_openai import ChatOpenAI\n",
        "llm = ChatOpenAI(model=\"gpt-4o\", temperature=0)"
      ],
      "metadata": {
        "id": "1xgdS9zdlqwl"
      },
      "execution_count": 13,
      "outputs": []
    },
    {
      "cell_type": "code",
      "source": [
        "_set_env(\"LANGCHAIN_API_KEY\")\n",
        "os.environ[\"LANGCHAIN_TRACING_V2\"] = \"true\"\n",
        "os.environ[\"LANGCHAIN_PROJECT\"] = \"langchain-academy\"\n"
      ],
      "metadata": {
        "colab": {
          "base_uri": "https://localhost:8080/"
        },
        "id": "EWuKv7eQAPe1",
        "outputId": "e26a1c88-be49-4148-816e-7d608b97ee46"
      },
      "execution_count": 4,
      "outputs": [
        {
          "name": "stdout",
          "output_type": "stream",
          "text": [
            "LANGCHAIN_API_KEY: ··········\n"
          ]
        }
      ]
    },
    {
      "cell_type": "markdown",
      "source": [
        "Generat Analyst: Human-in-the-loop"
      ],
      "metadata": {
        "id": "YvJOi1ySAaYx"
      }
    },
    {
      "cell_type": "code",
      "source": [
        "from typing import List\n",
        "from typing_extensions import TypedDict\n",
        "from pydantic import BaseModel, Field\n",
        "\n",
        "class Analyst(BaseModel):\n",
        "    affiliation: str = Field(\n",
        "        description=\"Primary affiliation of the analyst.\",\n",
        "    )\n",
        "    name: str = Field(\n",
        "        description=\"Name of the analyst.\"\n",
        "    )\n",
        "    role: str = Field(\n",
        "        description=\"Role of the analyst in the context of the topic.\",\n",
        "    )\n",
        "    description: str = Field(\n",
        "        description=\"Description of the analyst focus, concerns, and motives.\",\n",
        "    )\n",
        "    @property\n",
        "    def persona(self) -> str:\n",
        "        return f\"Name: {self.name}\\nRole: {self.role}\\nAffiliation: {self.affiliation}\\nDescription: {self.description}\\n\"\n",
        "\n",
        "class Perspectives(BaseModel):\n",
        "    analysts: List[Analyst] = Field(\n",
        "        description=\"Comprehensive list of analysts with their roles and affiliations.\",\n",
        "    )\n",
        "\n",
        "class GenerateAnalystsState(TypedDict):\n",
        "    topic: str # Research topic\n",
        "    max_analysts: int # Number of analysts\n",
        "    human_analyst_feedback: str # Human feedback\n",
        "    analysts: List[Analyst] # Analyst asking questions"
      ],
      "metadata": {
        "id": "mT9eJOa5AbJs"
      },
      "execution_count": 8,
      "outputs": []
    },
    {
      "cell_type": "markdown",
      "source": [
        "set Analyst main instructions"
      ],
      "metadata": {
        "id": "UQLcp9X0AjBY"
      }
    },
    {
      "cell_type": "code",
      "source": [
        "from langgraph.graph import START, END, StateGraph\n",
        "from langgraph.checkpoint.memory import MemorySaver\n",
        "from langchain_core.messages import AIMessage, HumanMessage, SystemMessage\n",
        "\n",
        "analyst_instructions=\"\"\"You are tasked with creating a set of AI analyst personas. Follow these instructions carefully:\n",
        "\n",
        "1. First, review the research topic:\n",
        "{topic}\n",
        "\n",
        "2. Examine any editorial feedback that has been optionally provided to guide creation of the analysts:\n",
        "\n",
        "{human_analyst_feedback}\n",
        "\n",
        "3. Determine the most interesting themes based upon documents and / or feedback above.\n",
        "\n",
        "4. Pick the top {max_analysts} themes.\n",
        "\n",
        "5. Assign one analyst to each theme.\"\"\"\n",
        "\n",
        "def create_analysts(state: GenerateAnalystsState):\n",
        "\n",
        "    \"\"\" Create analysts \"\"\"\n",
        "\n",
        "    topic=state['topic']\n",
        "    max_analysts=state['max_analysts']\n",
        "    human_analyst_feedback=state.get('human_analyst_feedback', '')\n",
        "\n",
        "    # Enforce structured output\n",
        "    structured_llm = llm.with_structured_output(Perspectives)\n",
        "\n",
        "    # System message\n",
        "    system_message = analyst_instructions.format(topic=topic,\n",
        "                                                            human_analyst_feedback=human_analyst_feedback,\n",
        "                                                            max_analysts=max_analysts)\n",
        "\n",
        "    # Generate question\n",
        "    analysts = structured_llm.invoke([SystemMessage(content=system_message)]+[HumanMessage(content=\"Generate the set of analysts.\")])\n",
        "\n",
        "    # Write the list of analysis to state\n",
        "    return {\"analysts\": analysts.analysts}\n",
        "\n",
        "def human_feedback(state: GenerateAnalystsState):\n",
        "    \"\"\" No-op node that should be interrupted on \"\"\"\n",
        "    pass\n",
        "\n",
        "def should_continue(state: GenerateAnalystsState):\n",
        "    \"\"\" Return the next node to execute \"\"\"\n",
        "\n",
        "    # Check if human feedback\n",
        "    human_analyst_feedback=state.get('human_analyst_feedback', None)\n",
        "    if human_analyst_feedback:\n",
        "        return \"create_analysts\"\n",
        "\n",
        "    # Otherwise end\n",
        "    return END\n"
      ],
      "metadata": {
        "id": "SzBu56u7AkDv"
      },
      "execution_count": 14,
      "outputs": []
    },
    {
      "cell_type": "markdown",
      "source": [
        "Logic/ Add nodes and edges"
      ],
      "metadata": {
        "id": "9ZiyhVrQArMu"
      }
    },
    {
      "cell_type": "code",
      "source": [
        "from IPython.display import Image, display\n",
        "\n",
        "# Add nodes and edges\n",
        "builder = StateGraph(GenerateAnalystsState)\n",
        "builder.add_node(\"create_analysts\", create_analysts)\n",
        "builder.add_node(\"human_feedback\", human_feedback)\n",
        "builder.add_edge(START, \"create_analysts\")\n",
        "builder.add_edge(\"create_analysts\", \"human_feedback\")\n",
        "builder.add_conditional_edges(\"human_feedback\", should_continue, [\"create_analysts\", END])\n",
        "\n",
        "# Compile\n",
        "memory = MemorySaver()\n",
        "graph = builder.compile(interrupt_before=['human_feedback'], checkpointer=memory)\n",
        "\n",
        "# View\n",
        "display(Image(graph.get_graph(xray=1).draw_mermaid_png()))"
      ],
      "metadata": {
        "colab": {
          "base_uri": "https://localhost:8080/",
          "height": 392
        },
        "id": "vCXG7EzLkUzp",
        "outputId": "8f208381-0131-4be1-84df-0c7073629870"
      },
      "execution_count": 15,
      "outputs": [
        {
          "output_type": "display_data",
          "data": {
            "image/png": "[encoded data removed]",
            "text/plain": [
              "<IPython.core.display.Image object>"
            ]
          },
          "metadata": {}
        }
      ]
    },
    {
      "cell_type": "code",
      "source": [
        "# Input\n",
        "max_analysts = 3\n",
        "topic = \"The benefits of adopting imported used cars in Pakistan\"\n",
        "thread = {\"configurable\": {\"thread_id\": \"1\"}}\n",
        "\n",
        "# Run the graph until the first interruption\n",
        "for event in graph.stream({\"topic\":topic,\"max_analysts\":max_analysts,}, thread, stream_mode=\"values\"):\n",
        "    # Review\n",
        "    analysts = event.get('analysts', '')\n",
        "    if analysts:\n",
        "        for analyst in analysts:\n",
        "            print(f\"Name: {analyst.name}\")\n",
        "            print(f\"Affiliation: {analyst.affiliation}\")\n",
        "            print(f\"Role: {analyst.role}\")\n",
        "            print(f\"Description: {analyst.description}\")\n",
        "            print(\"-\" * 50)"
      ],
      "metadata": {
        "colab": {
          "base_uri": "https://localhost:8080/"
        },
        "id": "nrvSDgKElNH4",
        "outputId": "006e2566-b159-437c-ae81-ca909cdf1f3d"
      },
      "execution_count": 16,
      "outputs": [
        {
          "output_type": "stream",
          "name": "stdout",
          "text": [
            "Name: Ayesha Khan\n",
            "Affiliation: Pakistan Automotive Manufacturers Association\n",
            "Role: Local Automotive Industry Advocate\n",
            "Description: Ayesha is focused on the impact of imported used cars on the local automotive industry. She is concerned about how these imports might affect local manufacturers and the overall economy. Her motive is to ensure that the local industry remains competitive and sustainable.\n",
            "--------------------------------------------------\n",
            "Name: Dr. Imran Ali\n",
            "Affiliation: Pakistan Environmental Protection Agency\n",
            "Role: Environmental Impact Analyst\n",
            "Description: Dr. Imran is interested in the environmental implications of importing used cars. He is concerned about the potential increase in emissions and waste management issues. His motive is to promote environmentally friendly policies and practices in the automotive sector.\n",
            "--------------------------------------------------\n",
            "Name: Sara Ahmed\n",
            "Affiliation: Consumer Rights Commission of Pakistan\n",
            "Role: Consumer Advocate\n",
            "Description: Sara focuses on the benefits of imported used cars for consumers, such as affordability and variety. She is concerned about consumer protection and ensuring that imported vehicles meet safety and quality standards. Her motive is to enhance consumer choice and satisfaction in the automotive market.\n",
            "--------------------------------------------------\n"
          ]
        }
      ]
    },
    {
      "cell_type": "code",
      "source": [
        "# Get state and look at next node\n",
        "state = graph.get_state(thread)\n",
        "state.next"
      ],
      "metadata": {
        "colab": {
          "base_uri": "https://localhost:8080/"
        },
        "id": "aLAfsqNFmGjR",
        "outputId": "04f44de7-a660-4991-f665-29f917614fe6"
      },
      "execution_count": 17,
      "outputs": [
        {
          "output_type": "execute_result",
          "data": {
            "text/plain": [
              "('human_feedback',)"
            ]
          },
          "metadata": {},
          "execution_count": 17
        }
      ]
    },
    {
      "cell_type": "code",
      "source": [
        "# We now update the state as if we are the human_feedback node\n",
        "graph.update_state(thread, {\"human_analyst_feedback\":\n",
        "                            \"Add in someone from a startup to add an entrepreneur perspective\"}, as_node=\"human_feedback\")"
      ],
      "metadata": {
        "colab": {
          "base_uri": "https://localhost:8080/"
        },
        "id": "3kGZQWKVmU0K",
        "outputId": "477f6b44-7791-4c69-c944-0f75b2a54d42"
      },
      "execution_count": 18,
      "outputs": [
        {
          "output_type": "execute_result",
          "data": {
            "text/plain": [
              "{'configurable': {'thread_id': '1',\n",
              "  'checkpoint_ns': '',\n",
              "  'checkpoint_id': '1efb769b-36eb-6f21-8002-2ba4cba20870'}}"
            ]
          },
          "metadata": {},
          "execution_count": 18
        }
      ]
    },
    {
      "cell_type": "code",
      "source": [
        "# Continue the graph execution\n",
        "for event in graph.stream(None, thread, stream_mode=\"values\"):\n",
        "    # Review\n",
        "    analysts = event.get('analysts', '')\n",
        "    if analysts:\n",
        "        for analyst in analysts:\n",
        "            print(f\"Name: {analyst.name}\")\n",
        "            print(f\"Affiliation: {analyst.affiliation}\")\n",
        "            print(f\"Role: {analyst.role}\")\n",
        "            print(f\"Description: {analyst.description}\")\n",
        "            print(\"-\" * 50)"
      ],
      "metadata": {
        "colab": {
          "base_uri": "https://localhost:8080/"
        },
        "id": "CWYT5vHFmfuN",
        "outputId": "8d43fb49-61b9-4006-ffc7-b2cd5f4cc97c"
      },
      "execution_count": 19,
      "outputs": [
        {
          "output_type": "stream",
          "name": "stdout",
          "text": [
            "Name: Ayesha Khan\n",
            "Affiliation: Pakistan Automotive Manufacturers Association\n",
            "Role: Local Automotive Industry Advocate\n",
            "Description: Ayesha is focused on the impact of imported used cars on the local automotive industry. She is concerned about how these imports might affect local manufacturers and the overall economy. Her motive is to ensure that the local industry remains competitive and sustainable.\n",
            "--------------------------------------------------\n",
            "Name: Dr. Imran Ali\n",
            "Affiliation: Pakistan Environmental Protection Agency\n",
            "Role: Environmental Impact Analyst\n",
            "Description: Dr. Imran is interested in the environmental implications of importing used cars. He is concerned about the potential increase in emissions and waste management issues. His motive is to promote environmentally friendly policies and practices in the automotive sector.\n",
            "--------------------------------------------------\n",
            "Name: Sara Ahmed\n",
            "Affiliation: Consumer Rights Commission of Pakistan\n",
            "Role: Consumer Advocate\n",
            "Description: Sara focuses on the benefits of imported used cars for consumers, such as affordability and variety. She is concerned about consumer protection and ensuring that imported vehicles meet safety and quality standards. Her motive is to enhance consumer choice and satisfaction in the automotive market.\n",
            "--------------------------------------------------\n",
            "Name: Ayesha Khan\n",
            "Affiliation: Pakistani Automotive Association\n",
            "Role: Industry Expert\n",
            "Description: Ayesha focuses on the automotive industry's growth and sustainability. She is concerned with how imported used cars can impact local manufacturing and employment, and she advocates for policies that balance these interests.\n",
            "--------------------------------------------------\n",
            "Name: Dr. Imran Ali\n",
            "Affiliation: Pakistani Environmental Agency\n",
            "Role: Environmental Analyst\n",
            "Description: Dr. Imran is dedicated to understanding the environmental implications of automotive imports. He evaluates the carbon footprint and pollution levels associated with used cars and promotes eco-friendly transportation solutions.\n",
            "--------------------------------------------------\n",
            "Name: Sara Ahmed\n",
            "Affiliation: AutoTech Startup\n",
            "Role: Entrepreneur\n",
            "Description: Sara brings an entrepreneurial perspective, exploring how imported used cars can create business opportunities in the automotive tech sector. She is interested in innovation, market expansion, and the potential for startups to thrive in this evolving market.\n",
            "--------------------------------------------------\n"
          ]
        }
      ]
    },
    {
      "cell_type": "code",
      "source": [
        "# If we are satisfied, then we simply supply no feedback\n",
        "further_feedack = None\n",
        "graph.update_state(thread, {\"human_analyst_feedback\":\n",
        "                            further_feedack}, as_node=\"human_feedback\")"
      ],
      "metadata": {
        "colab": {
          "base_uri": "https://localhost:8080/"
        },
        "id": "bQFRE05wmlvb",
        "outputId": "087f9e1d-dfa9-4174-843e-74589b7463a2"
      },
      "execution_count": 20,
      "outputs": [
        {
          "output_type": "execute_result",
          "data": {
            "text/plain": [
              "{'configurable': {'thread_id': '1',\n",
              "  'checkpoint_ns': '',\n",
              "  'checkpoint_id': '1efb769d-6419-6d56-8004-a9465edd7f1d'}}"
            ]
          },
          "metadata": {},
          "execution_count": 20
        }
      ]
    },
    {
      "cell_type": "code",
      "source": [
        "# Continue the graph execution to end\n",
        "for event in graph.stream(None, thread, stream_mode=\"updates\"):\n",
        "    print(\"--Node--\")\n",
        "    node_name = next(iter(event.keys()))\n",
        "    print(node_name)"
      ],
      "metadata": {
        "id": "QQD-wh_NmrSA"
      },
      "execution_count": 22,
      "outputs": []
    },
    {
      "cell_type": "code",
      "source": [
        "final_state = graph.get_state(thread)\n",
        "analysts = final_state.values.get('analysts')"
      ],
      "metadata": {
        "id": "2baV5oPbmxg3"
      },
      "execution_count": 23,
      "outputs": []
    },
    {
      "cell_type": "code",
      "source": [
        "final_state.next"
      ],
      "metadata": {
        "colab": {
          "base_uri": "https://localhost:8080/"
        },
        "id": "y2yWMB0km1Q6",
        "outputId": "1da11bd9-cabb-49af-ad32-e35e8c21964e"
      },
      "execution_count": 24,
      "outputs": [
        {
          "output_type": "execute_result",
          "data": {
            "text/plain": [
              "()"
            ]
          },
          "metadata": {},
          "execution_count": 24
        }
      ]
    },
    {
      "cell_type": "code",
      "source": [
        "for analyst in analysts:\n",
        "    print(f\"Name: {analyst.name}\")\n",
        "    print(f\"Affiliation: {analyst.affiliation}\")\n",
        "    print(f\"Role: {analyst.role}\")\n",
        "    print(f\"Description: {analyst.description}\")\n",
        "    print(\"-\" * 50)"
      ],
      "metadata": {
        "colab": {
          "base_uri": "https://localhost:8080/"
        },
        "id": "fQ2TNVJhm7M2",
        "outputId": "31389896-c56d-44ad-fbcd-c3b90549b80f"
      },
      "execution_count": 25,
      "outputs": [
        {
          "output_type": "stream",
          "name": "stdout",
          "text": [
            "Name: Ayesha Khan\n",
            "Affiliation: Pakistani Automotive Association\n",
            "Role: Industry Expert\n",
            "Description: Ayesha focuses on the automotive industry's growth and sustainability. She is concerned with how imported used cars can impact local manufacturing and employment, and she advocates for policies that balance these interests.\n",
            "--------------------------------------------------\n",
            "Name: Dr. Imran Ali\n",
            "Affiliation: Pakistani Environmental Agency\n",
            "Role: Environmental Analyst\n",
            "Description: Dr. Imran is dedicated to understanding the environmental implications of automotive imports. He evaluates the carbon footprint and pollution levels associated with used cars and promotes eco-friendly transportation solutions.\n",
            "--------------------------------------------------\n",
            "Name: Sara Ahmed\n",
            "Affiliation: AutoTech Startup\n",
            "Role: Entrepreneur\n",
            "Description: Sara brings an entrepreneurial perspective, exploring how imported used cars can create business opportunities in the automotive tech sector. She is interested in innovation, market expansion, and the potential for startups to thrive in this evolving market.\n",
            "--------------------------------------------------\n"
          ]
        }
      ]
    },
    {
      "cell_type": "markdown",
      "source": [
        "Now, we create nodes to search the web and wikipedia.\n",
        "\n",
        "We'll also create a node to answer analyst questions.\n",
        "\n",
        "Finally, we'll create nodes to save the full conversation and to write a summary (\"section\") of the conversation."
      ],
      "metadata": {
        "id": "aTetW_17nIj0"
      }
    },
    {
      "cell_type": "code",
      "source": [
        "def _set_env(var: str):\n",
        "    if not os.environ.get(var):\n",
        "        os.environ[var] = getpass.getpass(f\"{var}: \")\n",
        "\n",
        "_set_env(\"TAVILY_API_KEY\")"
      ],
      "metadata": {
        "colab": {
          "base_uri": "https://localhost:8080/"
        },
        "id": "bn4Pvbr8nkuq",
        "outputId": "97a433df-42c0-4e6c-d268-0a1d92f43a4c"
      },
      "execution_count": 26,
      "outputs": [
        {
          "name": "stdout",
          "output_type": "stream",
          "text": [
            "TAVILY_API_KEY: ··········\n"
          ]
        }
      ]
    },
    {
      "cell_type": "code",
      "source": [
        "# Web search tool\n",
        "from langchain_community.tools.tavily_search import TavilySearchResults\n",
        "tavily_search = TavilySearchResults(max_results=3)"
      ],
      "metadata": {
        "id": "hnXhTszknzvF"
      },
      "execution_count": 27,
      "outputs": []
    },
    {
      "cell_type": "code",
      "source": [
        "# Wikipedia search tool\n",
        "from langchain_community.document_loaders import WikipediaLoader"
      ],
      "metadata": {
        "id": "-7wU4HD2n5RG"
      },
      "execution_count": 28,
      "outputs": []
    },
    {
      "cell_type": "code",
      "source": [
        "import operator\n",
        "from typing import  Annotated\n",
        "from langgraph.graph import MessagesState\n",
        "\n",
        "class SearchState(MessagesState):\n",
        "    max_num_turns: int # Number turns of conversation\n",
        "    context: Annotated[list, operator.add] # Source docs\n",
        "    analyst: Analyst # Analyst asking questions\n",
        "    search: str # search transcript\n",
        "    sections: list # Final key we duplicate in outer state for Send() API\n",
        "\n",
        "class SearchQuery(BaseModel):\n",
        "    search_query: str = Field(None, description=\"Search query for retrieval.\")"
      ],
      "metadata": {
        "id": "K-3Baf2NoDME"
      },
      "execution_count": 30,
      "outputs": []
    },
    {
      "cell_type": "code",
      "source": [
        "from langchain_core.messages import get_buffer_string\n",
        "\n",
        "# Search query writing\n",
        "search_instructions = SystemMessage(content=f\"\"\"You will be given a conversation between an analyst and an expert.\n",
        "\n",
        "Your goal is to generate a well-structured query for use in retrieval and / or web-search related to the conversation.\n",
        "\n",
        "First, analyze the full conversation.\n",
        "\n",
        "Pay particular attention to the final question posed by the analyst.\n",
        "\n",
        "Convert this final question into a well-structured web search query\"\"\")\n",
        "\n",
        "def search_web(state: SearchState):\n",
        "\n",
        "    \"\"\" Retrieve docs from web search \"\"\"\n",
        "\n",
        "    # Search query\n",
        "    structured_llm = llm.with_structured_output(SearchQuery)\n",
        "    search_query = structured_llm.invoke([search_instructions]+state['messages'])\n",
        "\n",
        "    # Search\n",
        "    search_docs = tavily_search.invoke(search_query.search_query)\n",
        "\n",
        "     # Format\n",
        "    formatted_search_docs = \"\\n\\n---\\n\\n\".join(\n",
        "        [\n",
        "            f'<Document href=\"{doc[\"url\"]}\"/>\\n{doc[\"content\"]}\\n</Document>'\n",
        "            for doc in search_docs\n",
        "        ]\n",
        "    )\n",
        "\n",
        "    return {\"context\": [formatted_search_docs]}\n",
        "\n",
        "def search_wikipedia(state: SearchState):\n",
        "\n",
        "    \"\"\" Retrieve docs from wikipedia \"\"\"\n",
        "\n",
        "    # Search query\n",
        "    structured_llm = llm.with_structured_output(SearchQuery)\n",
        "    search_query = structured_llm.invoke([search_instructions]+state['messages'])\n",
        "\n",
        "    # Search\n",
        "    search_docs = WikipediaLoader(query=search_query.search_query,\n",
        "                                  load_max_docs=2).load()\n",
        "\n",
        "     # Format\n",
        "    formatted_search_docs = \"\\n\\n---\\n\\n\".join(\n",
        "        [\n",
        "            f'<Document source=\"{doc.metadata[\"source\"]}\" page=\"{doc.metadata.get(\"page\", \"\")}\"/>\\n{doc.page_content}\\n</Document>'\n",
        "            for doc in search_docs\n",
        "        ]\n",
        "    )\n",
        "\n",
        "    return {\"context\": [formatted_search_docs]}\n",
        "\n",
        "answer_instructions = \"\"\"You are an expert being searched by an analyst.\n",
        "\n",
        "Here is analyst area of focus: {goals}.\n",
        "\n",
        "You goal is to answer a question posed by the researcher.\n",
        "\n",
        "To answer question, use this context:\n",
        "\n",
        "{context}\n",
        "\n",
        "When answering questions, follow these guidelines:\n",
        "\n",
        "1. Use only the information provided in the context.\n",
        "\n",
        "2. Do not introduce external information or make assumptions beyond what is explicitly stated in the context.\n",
        "\n",
        "3. The context contain sources at the topic of each individual document.\n",
        "\n",
        "4. Include these sources your answer next to any relevant statements. For example, for source # 1 use [1].\n",
        "\n",
        "5. List your sources in order at the bottom of your answer. [1] Source 1, [2] Source 2, etc\n",
        "\n",
        "6. If the source is: <Document source=\"assistant/docs/llama3_1.pdf\" page=\"7\"/>' then just list:\n",
        "\n",
        "[1] assistant/docs/llama3_1.pdf, page 7\n",
        "\n",
        "And skip the addition of the brackets as well as the Document source preamble in your citation.\"\"\"\n",
        "\n",
        "def generate_answer(state: SearchState):\n",
        "\n",
        "    \"\"\" Node to answer a question \"\"\"\n",
        "\n",
        "    # Get state\n",
        "    analyst = state[\"analyst\"]\n",
        "    messages = state[\"messages\"]\n",
        "    context = state[\"context\"]\n",
        "\n",
        "    # Answer question\n",
        "    system_message = answer_instructions.format(goals=analyst.persona, context=context)\n",
        "    answer = llm.invoke([SystemMessage(content=system_message)]+messages)\n",
        "\n",
        "    # Name the message as coming from the expert\n",
        "    answer.name = \"expert\"\n",
        "\n",
        "    # Append it to state\n",
        "    return {\"messages\": [answer]}\n",
        "\n",
        "def save_search(state: SearchState):\n",
        "\n",
        "    \"\"\" Save searchs \"\"\"\n",
        "\n",
        "    # Get messages\n",
        "    messages = state[\"messages\"]\n",
        "\n",
        "    # Convert search to a string\n",
        "    search = get_buffer_string(messages)\n",
        "\n",
        "    # Save to searchs key\n",
        "    return {\"search\": search}\n",
        "\n",
        "def route_messages(state: SearchState,\n",
        "                   name: str = \"expert\"):\n",
        "\n",
        "    \"\"\" Route between question and answer \"\"\"\n",
        "\n",
        "    # Get messages\n",
        "    messages = state[\"messages\"]\n",
        "    max_num_turns = state.get('max_num_turns',2)\n",
        "\n",
        "    # Check the number of expert answers\n",
        "    num_responses = len(\n",
        "        [m for m in messages if isinstance(m, AIMessage) and m.name == name]\n",
        "    )\n",
        "\n",
        "    # End if expert has answered more than the max turns\n",
        "    if num_responses >= max_num_turns:\n",
        "        return 'save_search'\n",
        "\n",
        "    # This router is run after each question - answer pair\n",
        "    # Get the last question asked to check if it signals the end of discussion\n",
        "    last_question = messages[-2]\n",
        "\n",
        "    if \"Thank you so much for your help\" in last_question.content:\n",
        "        return 'save_search'\n",
        "    return \"ask_question\"\n",
        "\n",
        "section_writer_instructions = \"\"\"You are an expert technical writer.\n",
        "\n",
        "Your task is to create a short, easily digestible section of a report based on a set of source documents.\n",
        "\n",
        "1. Analyze the content of the source documents:\n",
        "- The name of each source document is at the start of the document, with the <Document tag.\n",
        "\n",
        "2. Create a report structure using markdown formatting:\n",
        "- Use ## for the section title\n",
        "- Use ### for sub-section headers\n",
        "\n",
        "3. Write the report following this structure:\n",
        "a. Title (## header)\n",
        "b. Summary (### header)\n",
        "c. Sources (### header)\n",
        "\n",
        "4. Make your title engaging based upon the focus area of the analyst:\n",
        "{focus}\n",
        "\n",
        "5. For the summary section:\n",
        "- Set up summary with general background / context related to the focus area of the analyst\n",
        "- Emphasize what is novel, interesting, or surprising about insights gathered from the search\n",
        "- Create a numbered list of source documents, as you use them\n",
        "- Do not mention the names of researcher or experts\n",
        "- Aim for approximately 400 words maximum\n",
        "- Use numbered sources in your report (e.g., [1], [2]) based on information from source documents\n",
        "\n",
        "6. In the Sources section:\n",
        "- Include all sources used in your report\n",
        "- Provide full links to relevant websites or specific document paths\n",
        "- Separate each source by a newline. Use two spaces at the end of each line to create a newline in Markdown.\n",
        "- It will look like:\n",
        "\n",
        "### Sources\n",
        "[1] Link or Document name\n",
        "[2] Link or Document name\n",
        "\n",
        "7. Be sure to combine sources. For example this is not correct:\n",
        "\n",
        "[3] https://ai.meta.com/blog/meta-llama-3-1/\n",
        "[4] https://ai.meta.com/blog/meta-llama-3-1/\n",
        "\n",
        "There should be no redundant sources. It should simply be:\n",
        "\n",
        "[3] https://ai.meta.com/blog/meta-llama-3-1/\n",
        "\n",
        "8. Final review:\n",
        "- Ensure the report follows the required structure\n",
        "- Include no preamble before the title of the report\n",
        "- Check that all guidelines have been followed\"\"\"\n",
        "\n",
        "def write_section(state: SearchState):\n",
        "\n",
        "    \"\"\" Node to answer a question \"\"\"\n",
        "\n",
        "    # Get state\n",
        "    search = state[\"search\"]\n",
        "    context = state[\"context\"]\n",
        "    analyst = state[\"analyst\"]\n",
        "\n",
        "    # Write section using either the gathered source docs from search (context) or the search itself (search)\n",
        "    system_message = section_writer_instructions.format(focus=analyst.description)\n",
        "    section = llm.invoke([SystemMessage(content=system_message)]+[HumanMessage(content=f\"Use this source to write your section: {context}\")])\n",
        "\n",
        "    # Append it to state\n",
        "    return {\"sections\": [section.content]}\n"
      ],
      "metadata": {
        "id": "dT905HbsnRQh"
      },
      "execution_count": 32,
      "outputs": []
    },
    {
      "cell_type": "code",
      "source": [
        "question_instructions = \"\"\"You are an analyst tasked with interviewing an expert to learn about a specific topic.\n",
        "\n",
        "Your goal is boil down to interesting and specific insights related to your topic.\n",
        "\n",
        "1. Interesting: Insights that people will find surprising or non-obvious.\n",
        "\n",
        "2. Specific: Insights that avoid generalities and include specific examples from the expert.\n",
        "\n",
        "Here is your topic of focus and set of goals: {goals}\n",
        "\n",
        "Begin by introducing yourself using a name that fits your persona, and then ask your question.\n",
        "\n",
        "Continue to ask questions to drill down and refine your understanding of the topic.\n",
        "\n",
        "When you are satisfied with your understanding, complete the interview with: \"Thank you so much for your help!\"\n",
        "\n",
        "Remember to stay in character throughout your response, reflecting the persona and goals provided to you.\"\"\"\n",
        "\n",
        "def generate_question(state: SearchState):\n",
        "    \"\"\" Node to generate a question \"\"\"\n",
        "\n",
        "    # Get state\n",
        "    analyst = state[\"analyst\"]\n",
        "    messages = state[\"messages\"]\n",
        "\n",
        "    # Generate question\n",
        "    system_message = question_instructions.format(goals=analyst.persona)\n",
        "    question = llm.invoke([SystemMessage(content=system_message)]+messages)\n",
        "\n",
        "    # Write messages to state\n",
        "    return {\"messages\": [question]}"
      ],
      "metadata": {
        "id": "UZr6LThBrdMN"
      },
      "execution_count": 34,
      "outputs": []
    },
    {
      "cell_type": "markdown",
      "source": [
        "Builg graph logic nodes and edge"
      ],
      "metadata": {
        "id": "xCBWMtTinZU6"
      }
    },
    {
      "cell_type": "code",
      "source": [
        "# Add nodes and edges\n",
        "search_builder = StateGraph(SearchState)\n",
        "search_builder.add_node(\"ask_question\", generate_question)\n",
        "search_builder.add_node(\"search_web\", search_web)\n",
        "search_builder.add_node(\"search_wikipedia\", search_wikipedia)\n",
        "search_builder.add_node(\"answer_question\", generate_answer)\n",
        "search_builder.add_node(\"save_search\", save_search)\n",
        "search_builder.add_node(\"write_section\", write_section)\n",
        "\n",
        "# Flow\n",
        "search_builder.add_edge(START, \"ask_question\")\n",
        "search_builder.add_edge(\"ask_question\", \"search_web\")\n",
        "search_builder.add_edge(\"ask_question\", \"search_wikipedia\")\n",
        "search_builder.add_edge(\"search_web\", \"answer_question\")\n",
        "search_builder.add_edge(\"search_wikipedia\", \"answer_question\")\n",
        "search_builder.add_conditional_edges(\"answer_question\", route_messages,['ask_question','save_search'])\n",
        "search_builder.add_edge(\"save_search\", \"write_section\")\n",
        "search_builder.add_edge(\"write_section\", END)\n",
        "\n",
        "# search\n",
        "memory = MemorySaver()\n",
        "search_graph = search_builder.compile(checkpointer=memory).with_config(run_name=\"Conduct Search\")\n",
        "\n",
        "# View\n",
        "display(Image(search_graph.get_graph().draw_mermaid_png()))"
      ],
      "metadata": {
        "colab": {
          "base_uri": "https://localhost:8080/",
          "height": 647
        },
        "id": "O929jSj2nX5_",
        "outputId": "0ddae5cb-7f6f-4721-dd89-03651675ba66"
      },
      "execution_count": 35,
      "outputs": [
        {
          "output_type": "display_data",
          "data": {
            "image/png": "[encoded data removed]",
            "text/plain": [
              "<IPython.core.display.Image object>"
            ]
          },
          "metadata": {}
        }
      ]
    },
    {
      "cell_type": "code",
      "source": [
        "# Pick one analyst\n",
        "analysts[0]"
      ],
      "metadata": {
        "id": "B0_NRFzMrq0l"
      },
      "execution_count": null,
      "outputs": []
    },
    {
      "cell_type": "markdown",
      "source": [
        "# Test our graph now"
      ],
      "metadata": {
        "id": "DN2kHRIRrxHw"
      }
    },
    {
      "cell_type": "code",
      "source": [
        "from IPython.display import Markdown\n",
        "messages = [HumanMessage(f\"So you said you were writing an article on {topic}?\")]\n",
        "thread = {\"configurable\": {\"thread_id\": \"1\"}}\n",
        "interview = search_graph.invoke({\"analyst\": analysts[0], \"messages\": messages, \"max_num_turns\": 2}, thread)\n",
        "Markdown(interview['sections'][0])"
      ],
      "metadata": {
        "colab": {
          "base_uri": "https://localhost:8080/",
          "height": 592
        },
        "id": "W5El5msyr1wF",
        "outputId": "7120b36d-a02b-4767-c237-f320e2760459"
      },
      "execution_count": 36,
      "outputs": [
        {
          "output_type": "execute_result",
          "data": {
            "text/plain": [
              "<IPython.core.display.Markdown object>"
            ],
            "text/markdown": "## Balancing Growth and Sustainability in Pakistan's Automotive Industry\n\n### Summary\n\nThe automotive industry in Pakistan is currently facing significant challenges due to the surge in imports of used cars. This trend is impacting local manufacturing and employment, raising concerns about the sustainability of the industry. The influx of imported used vehicles has been exacerbated by the government's decision to eliminate protective taxes, which previously shielded the local industry from such competition [1]. This policy change has led to a staggering 684% increase in the import of used cars in the first half of the fiscal year, severely affecting local manufacturers [2].\n\nThe local automotive industry, a crucial contributor to job creation and government revenue, is struggling to maintain its footing amidst these challenges. Major Original Equipment Manufacturers (OEMs) like Indus Motor Company, Honda Car, and Suzuki Motors have been forced to halt production due to low demand, highlighting the dire situation [3]. The industry is calling for government intervention to stem the influx of imported cars and protect local jobs and manufacturing capabilities [4].\n\nThis situation in Pakistan mirrors historical challenges faced by other countries, such as India, which implemented protective measures in the past to foster local manufacturing. India's automotive industry, now the third-largest automobile market in the world, benefited from policies that restricted imports and encouraged local production [5]. Similarly, South Africa's automotive industry has thrived by leveraging trade agreements and maintaining a balance between local production and imports [6].\n\nThe current scenario in Pakistan presents a complex challenge: balancing the benefits of open markets with the need to protect local industries. The surge in used car imports offers consumers more affordable options but threatens the viability of local manufacturers and the jobs they provide. Policymakers must consider strategies that support local manufacturing while addressing consumer needs, potentially through incentives for local production or revised import policies.\n\nIn conclusion, the Pakistani automotive industry is at a crossroads. The government and industry stakeholders must collaborate to develop policies that ensure sustainable growth, protect local jobs, and maintain the industry's contribution to the economy. This balance is crucial for the long-term health of the automotive sector and the broader economic landscape in Pakistan.\n\n### Sources\n[1] https://propakistani.pk/2024/03/26/increasing-used-car-imports-are-pressuring-pakistans-auto-industry-pama/  \n[2] https://www.pakwheels.com/blog/increase-in-import-of-used-cars-triggers-alarm/  \n[3] https://www.brecorder.com/news/40262281  \n[4] https://www.thenews.com.pk/print/1189073-local-auto-industry-seeks-govt-help-to-stem-imported-cars-influx  \n[5] https://en.wikipedia.org/wiki/Automotive_industry_in_India  \n[6] https://en.wikipedia.org/wiki/Automotive_industry_in_South_Africa  "
          },
          "metadata": {},
          "execution_count": 36
        }
      ]
    },
    {
      "cell_type": "markdown",
      "source": [
        "# Parallelze Searchs: Map-Reduce\n",
        "\n",
        "We parallelize the Search via the `Send()` API, a map step.\n",
        "\n",
        "We combine them into the report body in a reduce step.\n",
        "\n",
        " * Finalize\n",
        "\n",
        " We add a final step to write an intro and conclusion to the final report."
      ],
      "metadata": {
        "id": "-lVGPVuOsRWy"
      }
    },
    {
      "cell_type": "code",
      "source": [
        "import operator\n",
        "from typing import List, Annotated\n",
        "from typing_extensions import TypedDict\n",
        "\n",
        "class ResearchGraphState(TypedDict):\n",
        "    topic: str # Research topic\n",
        "    max_analysts: int # Number of analysts\n",
        "    human_analyst_feedback: str # Human feedback\n",
        "    analysts: List[Analyst] # Analyst asking questions\n",
        "    sections: Annotated[list, operator.add] # Send() API key\n",
        "    introduction: str # Introduction for the final report\n",
        "    content: str # Content for the final report\n",
        "    conclusion: str # Conclusion for the final report\n",
        "    final_report: str # Final report"
      ],
      "metadata": {
        "id": "Un3OSzA2wzhF"
      },
      "execution_count": 70,
      "outputs": []
    },
    {
      "cell_type": "code",
      "source": [
        "from langgraph.constants import Send\n",
        "\n",
        "report_writer_instructions = \"\"\"You are a technical writer creating a report on this overall topic:\n",
        "\n",
        "{topic}\n",
        "\n",
        "You have a team of analysts. Each analyst has done two things:\n",
        "\n",
        "1. They conducted an interview with an expert on a specific sub-topic.\n",
        "2. They write up their finding into a memo.\n",
        "\n",
        "Your task:\n",
        "\n",
        "1. You will be given a collection of memos from your analysts.\n",
        "2. Think carefully about the insights from each memo.\n",
        "3. Consolidate these into a crisp overall summary that ties together the central ideas from all of the memos.\n",
        "4. Summarize the central points in each memo into a cohesive single narrative.\n",
        "\n",
        "To format your report:\n",
        "\n",
        "1. Use markdown formatting.\n",
        "2. Include no pre-amble for the report.\n",
        "3. Use no sub-heading.\n",
        "4. Start your report with a single title header: ## Insights\n",
        "5. Do not mention any analyst names in your report.\n",
        "6. Preserve any citations in the memos, which will be annotated in brackets, for example [1] or [2].\n",
        "7. Create a final, consolidated list of sources and add to a Sources section with the `## Sources` header.\n",
        "8. List your sources in order and do not repeat.\n",
        "\n",
        "[1] Source 1\n",
        "[2] Source 2\n",
        "\n",
        "Here are the memos from your analysts to build your report from:\n",
        "\n",
        "{context}\"\"\"\n",
        "\n",
        "def write_report(state: ResearchGraphState):\n",
        "    # Full set of sections\n",
        "    sections = state[\"sections\"]\n",
        "    topic = state[\"topic\"]\n",
        "\n",
        "    # Concat all sections together\n",
        "    formatted_str_sections = \"\\n\\n\".join([f\"{section}\" for section in sections])\n",
        "\n",
        "    # Summarize the sections into a final report\n",
        "    system_message = report_writer_instructions.format(topic=topic, context=formatted_str_sections)\n",
        "    report = llm.invoke([SystemMessage(content=system_message)]+[HumanMessage(content=f\"Write a report based upon these memos.\")])\n",
        "    return {\"content\": report.content}\n",
        "\n",
        "intro_conclusion_instructions = \"\"\"You are a technical writer finishing a report on {topic}\n",
        "\n",
        "You will be given all of the sections of the report.\n",
        "\n",
        "You job is to write a crisp and compelling introduction or conclusion section.\n",
        "\n",
        "The user will instruct you whether to write the introduction or conclusion.\n",
        "\n",
        "Include no pre-amble for either section.\n",
        "\n",
        "Target around 100 words, crisply previewing (for introduction) or recapping (for conclusion) all of the sections of the report.\n",
        "\n",
        "Use markdown formatting.\n",
        "\n",
        "For your introduction, create a compelling title and use the # header for the title.\n",
        "\n",
        "For your introduction, use ## Introduction as the section header.\n",
        "\n",
        "For your conclusion, use ## Conclusion as the section header.\n",
        "\n",
        "Here are the sections to reflect on for writing: {formatted_str_sections}\"\"\"\n",
        "\n",
        "def write_introduction(state: ResearchGraphState):\n",
        "    # Full set of sections\n",
        "    sections = state[\"sections\"]\n",
        "    topic = state[\"topic\"]\n",
        "\n",
        "    # Concat all sections together\n",
        "    formatted_str_sections = \"\\n\\n\".join([f\"{section}\" for section in sections])\n",
        "\n",
        "    # Summarize the sections into a final report\n",
        "\n",
        "    instructions = intro_conclusion_instructions.format(topic=topic, formatted_str_sections=formatted_str_sections)\n",
        "    intro = llm.invoke([instructions]+[HumanMessage(content=f\"Write the report introduction\")])\n",
        "    return {\"introduction\": intro.content}\n",
        "\n",
        "def write_conclusion(state: ResearchGraphState):\n",
        "    # Full set of sections\n",
        "    sections = state[\"sections\"]\n",
        "    topic = state[\"topic\"]\n",
        "\n",
        "    # Concat all sections together\n",
        "    formatted_str_sections = \"\\n\\n\".join([f\"{section}\" for section in sections])\n",
        "\n",
        "    # Summarize the sections into a final report\n",
        "\n",
        "    instructions = intro_conclusion_instructions.format(topic=topic, formatted_str_sections=formatted_str_sections)\n",
        "    conclusion = llm.invoke([instructions]+[HumanMessage(content=f\"Write the report conclusion\")])\n",
        "    return {\"conclusion\": conclusion.content}\n",
        "\n",
        "def finalize_report(state: ResearchGraphState):\n",
        "    \"\"\" The is the \"reduce\" step where we gather all the sections, combine them, and reflect on them to write the intro/conclusion \"\"\"\n",
        "    # Save full final report\n",
        "    content = state[\"content\"]\n",
        "    if content.startswith(\"## Insights\"):\n",
        "        content = content.strip(\"## Insights\")\n",
        "    if \"## Sources\" in content:\n",
        "        try:\n",
        "            content, sources = content.split(\"\\n## Sources\\n\")\n",
        "        except:\n",
        "            sources = None\n",
        "    else:\n",
        "        sources = None\n",
        "\n",
        "    final_report = state[\"introduction\"] + \"\\n\\n---\\n\\n\" + content + \"\\n\\n---\\n\\n\" + state[\"conclusion\"]\n",
        "    if sources is not None:\n",
        "        final_report += \"\\n\\n## Sources\\n\" + sources\n",
        "    return {\"final_report\": final_report}"
      ],
      "metadata": {
        "id": "eJI6ZieCskt4"
      },
      "execution_count": 71,
      "outputs": []
    },
    {
      "cell_type": "code",
      "source": [
        "# Inputs\n",
        "max_analysts = 2\n",
        "topic = \"The benefits of adopting Electric cars in future\"\n",
        "thread = {\"configurable\": {\"thread_id\": \"1\"}}\n",
        "\n",
        "# Run the graph until the first interruption\n",
        "for event in graph.stream({\"topic\":topic,\n",
        "                           \"max_analysts\":max_analysts},\n",
        "                          thread,\n",
        "                          stream_mode=\"values\"):\n",
        "\n",
        "    analysts = event.get('analysts', '')\n",
        "    if analysts:\n",
        "        for analyst in analysts:\n",
        "            print(f\"Name: {analyst.name}\")\n",
        "            print(f\"Affiliation: {analyst.affiliation}\")\n",
        "            print(f\"Role: {analyst.role}\")\n",
        "            print(f\"Description: {analyst.description}\")\n",
        "            print(\"-\" * 50)"
      ],
      "metadata": {
        "colab": {
          "base_uri": "https://localhost:8080/"
        },
        "id": "2wM_jnnms8cT",
        "outputId": "d227b42d-5e05-472f-a9b1-a2f56d868190"
      },
      "execution_count": 73,
      "outputs": [
        {
          "output_type": "stream",
          "name": "stdout",
          "text": [
            "Name: Dr. Emily Carter\n",
            "Affiliation: International Energy Agency\n",
            "Role: Energy Policy Analyst\n",
            "Description: Dr. Carter focuses on the global energy transition and the role of electric vehicles in reducing carbon emissions. She is concerned with policy frameworks that support sustainable energy solutions and the economic implications of widespread electric car adoption.\n",
            "--------------------------------------------------\n",
            "Name: Mr. John Smith\n",
            "Affiliation: Tesla, Inc.\n",
            "Role: Automotive Industry Expert\n",
            "Description: Mr. Smith is an expert in electric vehicle technology and market trends. He is interested in the technological advancements in electric cars, their impact on the automotive industry, and the potential for innovation in battery technology.\n",
            "--------------------------------------------------\n",
            "Name: Prof. Lisa Nguyen\n",
            "Affiliation: University of California, Berkeley\n",
            "Role: Environmental Economist\n",
            "Description: Prof. Nguyen studies the environmental and economic benefits of electric vehicles. Her research focuses on the reduction of greenhouse gases, the economic incentives for consumers, and the long-term environmental impact of transitioning to electric cars.\n",
            "--------------------------------------------------\n",
            "Name: Dr. Emily Carter\n",
            "Affiliation: Green Energy Institute\n",
            "Role: Environmental Impact Analyst\n",
            "Description: Dr. Carter focuses on the environmental benefits of electric cars, including reduction in greenhouse gas emissions and air pollution. She is concerned with how electric vehicles can contribute to a sustainable future and is motivated by the potential for significant positive environmental change.\n",
            "--------------------------------------------------\n",
            "Name: Mr. John Smith\n",
            "Affiliation: Institute of Economic Studies\n",
            "Role: Economic Analyst\n",
            "Description: Mr. Smith analyzes the economic implications of adopting electric cars, such as cost savings for consumers, job creation in the electric vehicle industry, and the impact on oil markets. He is interested in how electric vehicles can drive economic growth and is motivated by the potential for economic transformation and innovation.\n",
            "--------------------------------------------------\n"
          ]
        }
      ]
    },
    {
      "cell_type": "code",
      "source": [
        "# We now update the state as if we are the human_feedback node\n",
        "graph.update_state(thread, {\"human_analyst_feedback\":\n",
        "                                \"Add in the CEO of Electric cars starts from Japan\"}, as_node=\"human_feedback\")"
      ],
      "metadata": {
        "colab": {
          "base_uri": "https://localhost:8080/"
        },
        "id": "3Vz4XhAKtUFM",
        "outputId": "0287d072-f87c-4da5-f287-ae8718555524"
      },
      "execution_count": 74,
      "outputs": [
        {
          "output_type": "execute_result",
          "data": {
            "text/plain": [
              "{'configurable': {'thread_id': '1',\n",
              "  'checkpoint_ns': '',\n",
              "  'checkpoint_id': '1efb7701-fccf-6713-802a-7db64e201b46'}}"
            ]
          },
          "metadata": {},
          "execution_count": 74
        }
      ]
    },
    {
      "cell_type": "code",
      "source": [
        "# Check\n",
        "for event in graph.stream(None, thread, stream_mode=\"values\"):\n",
        "    analysts = event.get('analysts', '')\n",
        "    if analysts:\n",
        "        for analyst in analysts:\n",
        "            print(f\"Name: {analyst.name}\")\n",
        "            print(f\"Affiliation: {analyst.affiliation}\")\n",
        "            print(f\"Role: {analyst.role}\")\n",
        "            print(f\"Description: {analyst.description}\")\n",
        "            print(\"-\" * 50)"
      ],
      "metadata": {
        "colab": {
          "base_uri": "https://localhost:8080/"
        },
        "id": "XEU6dXzsta-z",
        "outputId": "ec28af17-9cd7-42a9-9a52-3f3aba20de05"
      },
      "execution_count": 67,
      "outputs": [
        {
          "output_type": "stream",
          "name": "stdout",
          "text": [
            "Name: Dr. Emily Carter\n",
            "Affiliation: International Energy Agency\n",
            "Role: Energy Policy Analyst\n",
            "Description: Dr. Carter focuses on the global energy transition and the role of electric vehicles in reducing carbon emissions. She is concerned with policy frameworks that support sustainable energy adoption and the long-term environmental benefits of electric cars.\n",
            "--------------------------------------------------\n",
            "Name: Mr. John Smith\n",
            "Affiliation: Tesla, Inc.\n",
            "Role: Automotive Industry Expert\n",
            "Description: Mr. Smith is an expert in the automotive industry with a focus on electric vehicle technology and market trends. He is interested in the technological advancements and economic benefits of electric cars, including cost savings and innovation in battery technology.\n",
            "--------------------------------------------------\n",
            "Name: Prof. Lisa Nguyen\n",
            "Affiliation: University of California, Berkeley\n",
            "Role: Urban Planning and Transportation Researcher\n",
            "Description: Prof. Nguyen researches the impact of electric vehicles on urban planning and transportation systems. Her focus is on how electric cars can improve urban air quality, reduce noise pollution, and integrate with public transportation networks to enhance city living.\n",
            "--------------------------------------------------\n",
            "Name: Hiroshi Tanaka\n",
            "Affiliation: Nissan Electric Vehicles\n",
            "Role: CEO\n",
            "Description: As the CEO of a leading electric car company in Japan, Hiroshi is focused on the strategic growth and innovation in the electric vehicle sector. His primary concern is to ensure the adoption of electric cars aligns with sustainable practices and meets consumer demands. He is motivated by the potential for electric vehicles to reduce carbon emissions and transform urban mobility.\n",
            "--------------------------------------------------\n",
            "Name: Dr. Emily Carter\n",
            "Affiliation: International Energy Agency\n",
            "Role: Environmental Impact Analyst\n",
            "Description: Dr. Carter specializes in analyzing the environmental benefits of electric vehicles. Her focus is on quantifying the reduction in greenhouse gas emissions and air pollution from adopting electric cars. She is concerned with providing data-driven insights to support policy-making and public awareness. Her motivation is to promote cleaner energy solutions to combat climate change.\n",
            "--------------------------------------------------\n",
            "Name: Raj Patel\n",
            "Affiliation: Global Automotive Market Research\n",
            "Role: Market Trends Analyst\n",
            "Description: Raj is an expert in analyzing market trends and consumer behavior in the automotive industry. His focus is on understanding the economic benefits and challenges of transitioning to electric vehicles. He is concerned with the market readiness and infrastructure development needed to support widespread adoption. His motivation is to provide insights that help automotive companies and policymakers make informed decisions about the future of transportation.\n",
            "--------------------------------------------------\n"
          ]
        }
      ]
    },
    {
      "cell_type": "code",
      "source": [
        "# Confirm we are happy\n",
        "graph.update_state(thread, {\"human_analyst_feedback\":\n",
        "                            None}, as_node=\"human_feedback\")"
      ],
      "metadata": {
        "colab": {
          "base_uri": "https://localhost:8080/"
        },
        "id": "kaY7Ak19tjmW",
        "outputId": "3dd5b88e-6df0-4d80-8584-7f0678981a97"
      },
      "execution_count": 75,
      "outputs": [
        {
          "output_type": "execute_result",
          "data": {
            "text/plain": [
              "{'configurable': {'thread_id': '1',\n",
              "  'checkpoint_ns': '',\n",
              "  'checkpoint_id': '1efb7702-52cd-68d9-802b-ccc3a3527def'}}"
            ]
          },
          "metadata": {},
          "execution_count": 75
        }
      ]
    },
    {
      "cell_type": "code",
      "source": [
        "from IPython.display import Markdown\n",
        "final_state = graph.get_state(thread)\n",
        "report = final_state.values.get('final_report')\n",
        "Markdown(report)"
      ],
      "metadata": {
        "colab": {
          "base_uri": "https://localhost:8080/"
        },
        "id": "j8jNAjtouvFB",
        "outputId": "6d3dbbfc-7d76-4f7b-ba81-e6d35b787a3e"
      },
      "execution_count": 76,
      "outputs": [
        {
          "output_type": "execute_result",
          "data": {
            "text/plain": [
              "<IPython.core.display.Markdown object>"
            ]
          },
          "metadata": {},
          "execution_count": 76
        }
      ]
    }
  ],
  "metadata": {
    "colab": {
      "provenance": [],
      "authorship_tag": "ABX9TyNnYNTU13WGlmVVJ5/JFA3I",
      "include_colab_link": true
    },
    "kernelspec": {
      "display_name": "Python 3",
      "name": "python3"
    },
    "language_info": {
      "name": "python"
    }
  },
  "nbformat": 4,
  "nbformat_minor": 0
}